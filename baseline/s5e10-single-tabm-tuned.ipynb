{
 "cells": [
  {
   "cell_type": "code",
   "execution_count": 1,
   "id": "28b91180",
   "metadata": {
    "execution": {
     "iopub.execute_input": "2025-10-06T11:00:21.576974Z",
     "iopub.status.busy": "2025-10-06T11:00:21.576771Z",
     "iopub.status.idle": "2025-10-06T11:01:53.207332Z",
     "shell.execute_reply": "2025-10-06T11:01:53.206611Z"
    },
    "papermill": {
     "duration": 91.635943,
     "end_time": "2025-10-06T11:01:53.208807",
     "exception": false,
     "start_time": "2025-10-06T11:00:21.572864",
     "status": "completed"
    },
    "tags": []
   },
   "outputs": [
    {
     "name": "stdout",
     "output_type": "stream",
     "text": [
      "\u001b[2K   \u001b[90m━━━━━━━━━━━━━━━━━━━━━━━━━━━━━━━━━━━━━━━━\u001b[0m \u001b[32m352.2/352.2 kB\u001b[0m \u001b[31m3.9 MB/s\u001b[0m eta \u001b[36m0:00:00\u001b[0m\r\n",
      "\u001b[2K   \u001b[90m━━━━━━━━━━━━━━━━━━━━━━━━━━━━━━━━━━━━━━━━\u001b[0m \u001b[32m9.7/9.7 MB\u001b[0m \u001b[31m57.4 MB/s\u001b[0m eta \u001b[36m0:00:00\u001b[0m\r\n",
      "\u001b[2K   \u001b[90m━━━━━━━━━━━━━━━━━━━━━━━━━━━━━━━━━━━━━━━━\u001b[0m \u001b[32m363.4/363.4 MB\u001b[0m \u001b[31m4.8 MB/s\u001b[0m eta \u001b[36m0:00:00\u001b[0m\r\n",
      "\u001b[2K   \u001b[90m━━━━━━━━━━━━━━━━━━━━━━━━━━━━━━━━━━━━━━━━\u001b[0m \u001b[32m13.8/13.8 MB\u001b[0m \u001b[31m84.6 MB/s\u001b[0m eta \u001b[36m0:00:00\u001b[0m\r\n",
      "\u001b[2K   \u001b[90m━━━━━━━━━━━━━━━━━━━━━━━━━━━━━━━━━━━━━━━━\u001b[0m \u001b[32m24.6/24.6 MB\u001b[0m \u001b[31m53.0 MB/s\u001b[0m eta \u001b[36m0:00:00\u001b[0m\r\n",
      "\u001b[2K   \u001b[90m━━━━━━━━━━━━━━━━━━━━━━━━━━━━━━━━━━━━━━━━\u001b[0m \u001b[32m883.7/883.7 kB\u001b[0m \u001b[31m45.9 MB/s\u001b[0m eta \u001b[36m0:00:00\u001b[0m\r\n",
      "\u001b[2K   \u001b[90m━━━━━━━━━━━━━━━━━━━━━━━━━━━━━━━━━━━━━━━━\u001b[0m \u001b[32m664.8/664.8 MB\u001b[0m \u001b[31m2.6 MB/s\u001b[0m eta \u001b[36m0:00:00\u001b[0m\r\n",
      "\u001b[2K   \u001b[90m━━━━━━━━━━━━━━━━━━━━━━━━━━━━━━━━━━━━━━━━\u001b[0m \u001b[32m211.5/211.5 MB\u001b[0m \u001b[31m6.1 MB/s\u001b[0m eta \u001b[36m0:00:00\u001b[0m\r\n",
      "\u001b[2K   \u001b[90m━━━━━━━━━━━━━━━━━━━━━━━━━━━━━━━━━━━━━━━━\u001b[0m \u001b[32m56.3/56.3 MB\u001b[0m \u001b[31m24.0 MB/s\u001b[0m eta \u001b[36m0:00:00\u001b[0m\r\n",
      "\u001b[2K   \u001b[90m━━━━━━━━━━━━━━━━━━━━━━━━━━━━━━━━━━━━━━━━\u001b[0m \u001b[32m127.9/127.9 MB\u001b[0m \u001b[31m3.1 MB/s\u001b[0m eta \u001b[36m0:00:00\u001b[0m\r\n",
      "\u001b[2K   \u001b[90m━━━━━━━━━━━━━━━━━━━━━━━━━━━━━━━━━━━━━━━━\u001b[0m \u001b[32m207.5/207.5 MB\u001b[0m \u001b[31m6.4 MB/s\u001b[0m eta \u001b[36m0:00:00\u001b[0m\r\n",
      "\u001b[2K   \u001b[90m━━━━━━━━━━━━━━━━━━━━━━━━━━━━━━━━━━━━━━━━\u001b[0m \u001b[32m21.1/21.1 MB\u001b[0m \u001b[31m23.0 MB/s\u001b[0m eta \u001b[36m0:00:00\u001b[0m\r\n",
      "\u001b[?25h\u001b[31mERROR: pip's dependency resolver does not currently take into account all the packages that are installed. This behaviour is the source of the following dependency conflicts.\r\n",
      "category-encoders 2.7.0 requires scikit-learn<1.6.0,>=1.0.0, but you have scikit-learn 1.7.2 which is incompatible.\r\n",
      "cesium 0.12.4 requires numpy<3.0,>=2.0, but you have numpy 1.26.4 which is incompatible.\r\n",
      "sklearn-compat 0.1.3 requires scikit-learn<1.7,>=1.2, but you have scikit-learn 1.7.2 which is incompatible.\u001b[0m\u001b[31m\r\n",
      "\u001b[0m"
     ]
    }
   ],
   "source": [
    "!pip install -qq pytabkit"
   ]
  },
  {
   "cell_type": "code",
   "execution_count": 2,
   "id": "153f805c",
   "metadata": {
    "_cell_guid": "b1076dfc-b9ad-4769-8c92-a6c4dae69d19",
    "_uuid": "8f2839f25d086af736a60e9eeb907d3b93b6e0e5",
    "execution": {
     "iopub.execute_input": "2025-10-06T11:01:53.270662Z",
     "iopub.status.busy": "2025-10-06T11:01:53.270379Z",
     "iopub.status.idle": "2025-10-06T11:01:53.274257Z",
     "shell.execute_reply": "2025-10-06T11:01:53.273599Z"
    },
    "papermill": {
     "duration": 0.035655,
     "end_time": "2025-10-06T11:01:53.275286",
     "exception": false,
     "start_time": "2025-10-06T11:01:53.239631",
     "status": "completed"
    },
    "tags": []
   },
   "outputs": [],
   "source": [
    "import warnings\n",
    "warnings.simplefilter('ignore')"
   ]
  },
  {
   "cell_type": "code",
   "execution_count": 3,
   "id": "986dfcbb",
   "metadata": {
    "execution": {
     "iopub.execute_input": "2025-10-06T11:01:53.335920Z",
     "iopub.status.busy": "2025-10-06T11:01:53.335470Z",
     "iopub.status.idle": "2025-10-06T11:01:56.134989Z",
     "shell.execute_reply": "2025-10-06T11:01:56.134279Z"
    },
    "papermill": {
     "duration": 2.831003,
     "end_time": "2025-10-06T11:01:56.136216",
     "exception": false,
     "start_time": "2025-10-06T11:01:53.305213",
     "status": "completed"
    },
    "tags": []
   },
   "outputs": [
    {
     "name": "stdout",
     "output_type": "stream",
     "text": [
      "Train Shape: (517754, 14)\n",
      "Test Shape: (172585, 13)\n",
      "Orig Shape: (100000, 13)\n"
     ]
    },
    {
     "data": {
      "text/html": [
       "<div>\n",
       "<style scoped>\n",
       "    .dataframe tbody tr th:only-of-type {\n",
       "        vertical-align: middle;\n",
       "    }\n",
       "\n",
       "    .dataframe tbody tr th {\n",
       "        vertical-align: top;\n",
       "    }\n",
       "\n",
       "    .dataframe thead th {\n",
       "        text-align: right;\n",
       "    }\n",
       "</style>\n",
       "<table border=\"1\" class=\"dataframe\">\n",
       "  <thead>\n",
       "    <tr style=\"text-align: right;\">\n",
       "      <th></th>\n",
       "      <th>id</th>\n",
       "      <th>road_type</th>\n",
       "      <th>num_lanes</th>\n",
       "      <th>curvature</th>\n",
       "      <th>speed_limit</th>\n",
       "      <th>lighting</th>\n",
       "      <th>weather</th>\n",
       "      <th>road_signs_present</th>\n",
       "      <th>public_road</th>\n",
       "      <th>time_of_day</th>\n",
       "      <th>holiday</th>\n",
       "      <th>school_season</th>\n",
       "      <th>num_reported_accidents</th>\n",
       "      <th>accident_risk</th>\n",
       "    </tr>\n",
       "  </thead>\n",
       "  <tbody>\n",
       "    <tr>\n",
       "      <th>0</th>\n",
       "      <td>0</td>\n",
       "      <td>urban</td>\n",
       "      <td>2</td>\n",
       "      <td>0.06</td>\n",
       "      <td>35</td>\n",
       "      <td>daylight</td>\n",
       "      <td>rainy</td>\n",
       "      <td>False</td>\n",
       "      <td>True</td>\n",
       "      <td>afternoon</td>\n",
       "      <td>False</td>\n",
       "      <td>True</td>\n",
       "      <td>1</td>\n",
       "      <td>0.13</td>\n",
       "    </tr>\n",
       "    <tr>\n",
       "      <th>1</th>\n",
       "      <td>1</td>\n",
       "      <td>urban</td>\n",
       "      <td>4</td>\n",
       "      <td>0.99</td>\n",
       "      <td>35</td>\n",
       "      <td>daylight</td>\n",
       "      <td>clear</td>\n",
       "      <td>True</td>\n",
       "      <td>False</td>\n",
       "      <td>evening</td>\n",
       "      <td>True</td>\n",
       "      <td>True</td>\n",
       "      <td>0</td>\n",
       "      <td>0.35</td>\n",
       "    </tr>\n",
       "    <tr>\n",
       "      <th>2</th>\n",
       "      <td>2</td>\n",
       "      <td>rural</td>\n",
       "      <td>4</td>\n",
       "      <td>0.63</td>\n",
       "      <td>70</td>\n",
       "      <td>dim</td>\n",
       "      <td>clear</td>\n",
       "      <td>False</td>\n",
       "      <td>True</td>\n",
       "      <td>morning</td>\n",
       "      <td>True</td>\n",
       "      <td>False</td>\n",
       "      <td>2</td>\n",
       "      <td>0.30</td>\n",
       "    </tr>\n",
       "  </tbody>\n",
       "</table>\n",
       "</div>"
      ],
      "text/plain": [
       "   id road_type  num_lanes  curvature  speed_limit  lighting weather  \\\n",
       "0   0     urban          2       0.06           35  daylight   rainy   \n",
       "1   1     urban          4       0.99           35  daylight   clear   \n",
       "2   2     rural          4       0.63           70       dim   clear   \n",
       "\n",
       "   road_signs_present  public_road time_of_day  holiday  school_season  \\\n",
       "0               False         True   afternoon    False           True   \n",
       "1                True        False     evening     True           True   \n",
       "2               False         True     morning     True          False   \n",
       "\n",
       "   num_reported_accidents  accident_risk  \n",
       "0                       1           0.13  \n",
       "1                       0           0.35  \n",
       "2                       2           0.30  "
      ]
     },
     "execution_count": 3,
     "metadata": {},
     "output_type": "execute_result"
    }
   ],
   "source": [
    "import pandas as pd, numpy as np\n",
    "\n",
    "train = pd.read_csv('/kaggle/input/playground-series-s5e10/train.csv')\n",
    "test = pd.read_csv('/kaggle/input/playground-series-s5e10/test.csv')\n",
    "orig = pd.read_csv('/kaggle/input/simulated-roads-accident-data/synthetic_road_accidents_100k.csv')\n",
    "print('Train Shape:', train.shape)\n",
    "print('Test Shape:', test.shape)\n",
    "print('Orig Shape:', orig.shape)\n",
    "\n",
    "train.head(3)"
   ]
  },
  {
   "cell_type": "code",
   "execution_count": 4,
   "id": "923247a7",
   "metadata": {
    "execution": {
     "iopub.execute_input": "2025-10-06T11:01:56.242621Z",
     "iopub.status.busy": "2025-10-06T11:01:56.242091Z",
     "iopub.status.idle": "2025-10-06T11:01:56.246852Z",
     "shell.execute_reply": "2025-10-06T11:01:56.246267Z"
    },
    "papermill": {
     "duration": 0.03582,
     "end_time": "2025-10-06T11:01:56.247990",
     "exception": false,
     "start_time": "2025-10-06T11:01:56.212170",
     "status": "completed"
    },
    "tags": []
   },
   "outputs": [
    {
     "name": "stdout",
     "output_type": "stream",
     "text": [
      "12 Base Features:['road_type', 'num_lanes', 'curvature', 'speed_limit', 'lighting', 'weather', 'road_signs_present', 'public_road', 'time_of_day', 'holiday', 'school_season', 'num_reported_accidents']\n"
     ]
    }
   ],
   "source": [
    "TARGET = 'accident_risk'\n",
    "BASE = [col for col in train.columns if col not in ['id', TARGET]]\n",
    "CATS = ['road_type', 'lighting', 'weather', 'road_signs_present', 'public_road', 'time_of_day', 'holiday', 'school_season']\n",
    "\n",
    "print(f'{len(BASE)} Base Features:{BASE}')"
   ]
  },
  {
   "cell_type": "code",
   "execution_count": 5,
   "id": "90ba9043",
   "metadata": {
    "execution": {
     "iopub.execute_input": "2025-10-06T11:01:56.307481Z",
     "iopub.status.busy": "2025-10-06T11:01:56.307270Z",
     "iopub.status.idle": "2025-10-06T11:01:57.770073Z",
     "shell.execute_reply": "2025-10-06T11:01:57.769225Z"
    },
    "papermill": {
     "duration": 1.494713,
     "end_time": "2025-10-06T11:01:57.772015",
     "exception": false,
     "start_time": "2025-10-06T11:01:56.277302",
     "status": "completed"
    },
    "tags": []
   },
   "outputs": [
    {
     "name": "stdout",
     "output_type": "stream",
     "text": [
      "12 Orig Features Created!!\n"
     ]
    }
   ],
   "source": [
    "ORIG = []\n",
    "\n",
    "for col in BASE:\n",
    "    tmp = orig.groupby(col)[TARGET].mean()\n",
    "    new_col_name = f\"orig_{col}\"\n",
    "    tmp.name = new_col_name\n",
    "    train = train.merge(tmp, on=col, how='left')\n",
    "    test = test.merge(tmp, on=col, how='left')\n",
    "    ORIG.append(new_col_name)\n",
    "\n",
    "print(len(ORIG), 'Orig Features Created!!')"
   ]
  },
  {
   "cell_type": "code",
   "execution_count": 6,
   "id": "a2906d54",
   "metadata": {
    "execution": {
     "iopub.execute_input": "2025-10-06T11:01:57.839236Z",
     "iopub.status.busy": "2025-10-06T11:01:57.839015Z",
     "iopub.status.idle": "2025-10-06T11:01:57.970902Z",
     "shell.execute_reply": "2025-10-06T11:01:57.970322Z"
    },
    "papermill": {
     "duration": 0.166989,
     "end_time": "2025-10-06T11:01:57.972190",
     "exception": false,
     "start_time": "2025-10-06T11:01:57.805201",
     "status": "completed"
    },
    "tags": []
   },
   "outputs": [],
   "source": [
    "META = []\n",
    "\n",
    "for df in [train, test, orig]:\n",
    "    base_risk = (\n",
    "        0.3 * df[\"curvature\"] + \n",
    "        0.2 * (df[\"lighting\"] == \"night\").astype(int) + \n",
    "        0.1 * (df[\"weather\"] != \"clear\").astype(int) + \n",
    "        0.2 * (df[\"speed_limit\"] >= 60).astype(int) + \n",
    "        0.1 * (np.array(df[\"num_reported_accidents\"]) > 2).astype(int)\n",
    "    )\n",
    "    df['Meta'] = base_risk\n",
    "\n",
    "META.append('Meta')"
   ]
  },
  {
   "cell_type": "code",
   "execution_count": 7,
   "id": "31b6538e",
   "metadata": {
    "execution": {
     "iopub.execute_input": "2025-10-06T11:01:58.034337Z",
     "iopub.status.busy": "2025-10-06T11:01:58.033940Z",
     "iopub.status.idle": "2025-10-06T11:01:58.043689Z",
     "shell.execute_reply": "2025-10-06T11:01:58.043166Z"
    },
    "papermill": {
     "duration": 0.041577,
     "end_time": "2025-10-06T11:01:58.044738",
     "exception": false,
     "start_time": "2025-10-06T11:01:58.003161",
     "status": "completed"
    },
    "tags": []
   },
   "outputs": [],
   "source": [
    "train['orig_curvature'] = train['orig_curvature'].fillna(orig[TARGET].mean())\n",
    "test['orig_curvature'] = test['orig_curvature'].fillna(orig[TARGET].mean())"
   ]
  },
  {
   "cell_type": "code",
   "execution_count": 8,
   "id": "915721ff",
   "metadata": {
    "execution": {
     "iopub.execute_input": "2025-10-06T11:01:58.108184Z",
     "iopub.status.busy": "2025-10-06T11:01:58.107654Z",
     "iopub.status.idle": "2025-10-06T11:01:58.111431Z",
     "shell.execute_reply": "2025-10-06T11:01:58.110704Z"
    },
    "papermill": {
     "duration": 0.03649,
     "end_time": "2025-10-06T11:01:58.112433",
     "exception": false,
     "start_time": "2025-10-06T11:01:58.075943",
     "status": "completed"
    },
    "tags": []
   },
   "outputs": [
    {
     "name": "stdout",
     "output_type": "stream",
     "text": [
      "25 Features.\n"
     ]
    }
   ],
   "source": [
    "FEATURES = BASE + ORIG + META\n",
    "print(len(FEATURES), 'Features.')"
   ]
  },
  {
   "cell_type": "code",
   "execution_count": 9,
   "id": "f80f27af",
   "metadata": {
    "execution": {
     "iopub.execute_input": "2025-10-06T11:01:58.172508Z",
     "iopub.status.busy": "2025-10-06T11:01:58.171919Z",
     "iopub.status.idle": "2025-10-06T11:01:58.225486Z",
     "shell.execute_reply": "2025-10-06T11:01:58.224692Z"
    },
    "papermill": {
     "duration": 0.085133,
     "end_time": "2025-10-06T11:01:58.226975",
     "exception": false,
     "start_time": "2025-10-06T11:01:58.141842",
     "status": "completed"
    },
    "tags": []
   },
   "outputs": [],
   "source": [
    "X = train[FEATURES]\n",
    "y = train[TARGET]\n",
    "X_test = test[FEATURES]"
   ]
  },
  {
   "cell_type": "code",
   "execution_count": 10,
   "id": "eed063bb",
   "metadata": {
    "execution": {
     "iopub.execute_input": "2025-10-06T11:01:58.289775Z",
     "iopub.status.busy": "2025-10-06T11:01:58.289023Z",
     "iopub.status.idle": "2025-10-06T11:01:59.865114Z",
     "shell.execute_reply": "2025-10-06T11:01:59.864381Z"
    },
    "papermill": {
     "duration": 1.608716,
     "end_time": "2025-10-06T11:01:59.866523",
     "exception": false,
     "start_time": "2025-10-06T11:01:58.257807",
     "status": "completed"
    },
    "tags": []
   },
   "outputs": [],
   "source": [
    "from sklearn.model_selection import KFold\n",
    "\n",
    "N_SPLITS = 5\n",
    "kf = KFold(n_splits=N_SPLITS, shuffle=True, random_state=42)"
   ]
  },
  {
   "cell_type": "code",
   "execution_count": 11,
   "id": "c659c598",
   "metadata": {
    "_kg_hide-output": true,
    "execution": {
     "iopub.execute_input": "2025-10-06T11:01:59.930665Z",
     "iopub.status.busy": "2025-10-06T11:01:59.930312Z",
     "iopub.status.idle": "2025-10-06T11:01:59.933843Z",
     "shell.execute_reply": "2025-10-06T11:01:59.933187Z"
    },
    "papermill": {
     "duration": 0.036234,
     "end_time": "2025-10-06T11:01:59.935018",
     "exception": false,
     "start_time": "2025-10-06T11:01:59.898784",
     "status": "completed"
    },
    "tags": []
   },
   "outputs": [],
   "source": [
    "# from pytabkit import TabM_HPO_Regressor\n",
    "\n",
    "# model = TabM_HPO_Regressor(\n",
    "#         device='cuda',\n",
    "#         random_state=42,\n",
    "#         n_cv=1,\n",
    "#         # n_refit=0,\n",
    "#         n_epochs=10, \n",
    "#         val_metric_name='rmse',\n",
    "#         verbosity=2\n",
    "#     )\n",
    "    \n",
    "# model.fit(X, y, cat_col_names=CATS)"
   ]
  },
  {
   "cell_type": "code",
   "execution_count": 12,
   "id": "04f290b4",
   "metadata": {
    "execution": {
     "iopub.execute_input": "2025-10-06T11:01:59.997266Z",
     "iopub.status.busy": "2025-10-06T11:01:59.997069Z",
     "iopub.status.idle": "2025-10-06T11:02:00.001119Z",
     "shell.execute_reply": "2025-10-06T11:02:00.000611Z"
    },
    "papermill": {
     "duration": 0.036696,
     "end_time": "2025-10-06T11:02:00.002170",
     "exception": false,
     "start_time": "2025-10-06T11:01:59.965474",
     "status": "completed"
    },
    "tags": []
   },
   "outputs": [],
   "source": [
    "import os, sys\n",
    "from contextlib import contextmanager\n",
    "\n",
    "@contextmanager\n",
    "def suppress_stdout():\n",
    "    with open(os.devnull, \"w\") as devnull:\n",
    "        old_stdout = sys.stdout\n",
    "        sys.stdout = devnull\n",
    "        try:\n",
    "            yield\n",
    "        finally:\n",
    "            sys.stdout = old_stdout"
   ]
  },
  {
   "cell_type": "code",
   "execution_count": 13,
   "id": "00362884",
   "metadata": {
    "execution": {
     "iopub.execute_input": "2025-10-06T11:02:00.071378Z",
     "iopub.status.busy": "2025-10-06T11:02:00.071172Z",
     "iopub.status.idle": "2025-10-06T11:02:00.074853Z",
     "shell.execute_reply": "2025-10-06T11:02:00.074310Z"
    },
    "papermill": {
     "duration": 0.043102,
     "end_time": "2025-10-06T11:02:00.075812",
     "exception": false,
     "start_time": "2025-10-06T11:02:00.032710",
     "status": "completed"
    },
    "tags": []
   },
   "outputs": [],
   "source": [
    "params = {'batch_size': 'auto',\n",
    "          'patience': 16,\n",
    "          'allow_amp': True,\n",
    "          'arch_type': 'tabm-mini',\n",
    "          'tabm_k': 32,\n",
    "          'gradient_clipping_norm': 1.0, \n",
    "          'share_training_batches': False,\n",
    "          'lr': 0.0029993695720154537,\n",
    "          'weight_decay': 0.023742083301699905,\n",
    "          'n_blocks': 3,\n",
    "          'd_block': 448, \n",
    "          'dropout': 0.0, \n",
    "          'num_emb_type': 'pwl',\n",
    "          'd_embedding': 32,\n",
    "          'num_emb_n_bins': 119,\n",
    "         }"
   ]
  },
  {
   "cell_type": "code",
   "execution_count": 14,
   "id": "9185b2c6",
   "metadata": {
    "execution": {
     "iopub.execute_input": "2025-10-06T11:02:00.135807Z",
     "iopub.status.busy": "2025-10-06T11:02:00.135587Z",
     "iopub.status.idle": "2025-10-06T11:02:13.590480Z",
     "shell.execute_reply": "2025-10-06T11:02:13.589787Z"
    },
    "papermill": {
     "duration": 13.48651,
     "end_time": "2025-10-06T11:02:13.591989",
     "exception": false,
     "start_time": "2025-10-06T11:02:00.105479",
     "status": "completed"
    },
    "tags": []
   },
   "outputs": [],
   "source": [
    "from pytabkit import TabM_D_Regressor\n",
    "from sklearn.metrics import root_mean_squared_error"
   ]
  },
  {
   "cell_type": "code",
   "execution_count": 15,
   "id": "ac3ac862",
   "metadata": {
    "execution": {
     "iopub.execute_input": "2025-10-06T11:02:13.652686Z",
     "iopub.status.busy": "2025-10-06T11:02:13.652228Z",
     "iopub.status.idle": "2025-10-06T11:50:04.420870Z",
     "shell.execute_reply": "2025-10-06T11:50:04.420069Z"
    },
    "papermill": {
     "duration": 2870.83133,
     "end_time": "2025-10-06T11:50:04.453399",
     "exception": false,
     "start_time": "2025-10-06T11:02:13.622069",
     "status": "completed"
    },
    "tags": []
   },
   "outputs": [
    {
     "name": "stdout",
     "output_type": "stream",
     "text": [
      "--- Fold 1/5 ---\n",
      "Fold 1 RMSE: 0.05612\n",
      "--- Fold 2/5 ---\n",
      "Fold 2 RMSE: 0.05593\n",
      "--- Fold 3/5 ---\n",
      "Fold 3 RMSE: 0.05602\n",
      "--- Fold 4/5 ---\n",
      "Fold 4 RMSE: 0.05590\n",
      "--- Fold 5/5 ---\n",
      "Fold 5 RMSE: 0.05584\n",
      "Overall OOF RMSE: 0.05596\n"
     ]
    }
   ],
   "source": [
    "oof_preds = np.zeros(len(X))\n",
    "test_preds = np.zeros(len(test))\n",
    "\n",
    "for fold, (train_idx, val_idx) in enumerate(kf.split(X, y)):\n",
    "    print(f'--- Fold {fold+1}/{N_SPLITS} ---')\n",
    "    \n",
    "    X_train, X_val = X.iloc[train_idx], X.iloc[val_idx]\n",
    "    y_train, y_val = y.iloc[train_idx], y.iloc[val_idx]\n",
    "\n",
    "    with suppress_stdout():\n",
    "        model = TabM_D_Regressor(**params)\n",
    "        model.fit(X_train, y_train, X_val, y_val, cat_col_names=CATS)\n",
    "    \n",
    "    oof_preds[val_idx] = model.predict(X_val)\n",
    "    test_preds += model.predict(X_test)\n",
    "\n",
    "    print(f\"Fold {fold+1} RMSE: {root_mean_squared_error(y_val, oof_preds[val_idx]):.5f}\")\n",
    "\n",
    "test_preds /= N_SPLITS\n",
    "\n",
    "print(f\"Overall OOF RMSE: {root_mean_squared_error(y, oof_preds):.5f}\")"
   ]
  },
  {
   "cell_type": "code",
   "execution_count": 16,
   "id": "29e1e518",
   "metadata": {
    "execution": {
     "iopub.execute_input": "2025-10-06T11:50:04.566173Z",
     "iopub.status.busy": "2025-10-06T11:50:04.565658Z",
     "iopub.status.idle": "2025-10-06T11:50:05.823799Z",
     "shell.execute_reply": "2025-10-06T11:50:05.822979Z"
    },
    "papermill": {
     "duration": 1.29001,
     "end_time": "2025-10-06T11:50:05.825166",
     "exception": false,
     "start_time": "2025-10-06T11:50:04.535156",
     "status": "completed"
    },
    "tags": []
   },
   "outputs": [],
   "source": [
    "pd.DataFrame({'id': train.id, TARGET: oof_preds}).to_csv('oof_tabm_plus_origcol_tuned.csv', index=False)\n",
    "pd.DataFrame({'id': test.id, TARGET: test_preds}).to_csv('test_tabm_plus_origcol_tuned.csv', index=False)"
   ]
  }
 ],
 "metadata": {
  "kaggle": {
   "accelerator": "gpu",
   "dataSources": [
    {
     "databundleVersionId": 13760552,
     "sourceId": 91721,
     "sourceType": "competition"
    },
    {
     "datasetId": 7797612,
     "sourceId": 12367739,
     "sourceType": "datasetVersion"
    }
   ],
   "dockerImageVersionId": 31090,
   "isGpuEnabled": true,
   "isInternetEnabled": true,
   "language": "python",
   "sourceType": "notebook"
  },
  "kernelspec": {
   "display_name": "Python 3",
   "language": "python",
   "name": "python3"
  },
  "language_info": {
   "codemirror_mode": {
    "name": "ipython",
    "version": 3
   },
   "file_extension": ".py",
   "mimetype": "text/x-python",
   "name": "python",
   "nbconvert_exporter": "python",
   "pygments_lexer": "ipython3",
   "version": "3.11.13"
  },
  "papermill": {
   "default_parameters": {},
   "duration": 2990.118266,
   "end_time": "2025-10-06T11:50:07.579734",
   "environment_variables": {},
   "exception": null,
   "input_path": "__notebook__.ipynb",
   "output_path": "__notebook__.ipynb",
   "parameters": {},
   "start_time": "2025-10-06T11:00:17.461468",
   "version": "2.6.0"
  }
 },
 "nbformat": 4,
 "nbformat_minor": 5
}
