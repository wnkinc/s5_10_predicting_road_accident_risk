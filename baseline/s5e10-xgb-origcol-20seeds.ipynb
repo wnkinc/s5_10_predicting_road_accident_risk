{
 "cells": [
  {
   "cell_type": "code",
   "execution_count": 1,
   "id": "6be66c3d",
   "metadata": {
    "_cell_guid": "b1076dfc-b9ad-4769-8c92-a6c4dae69d19",
    "_uuid": "8f2839f25d086af736a60e9eeb907d3b93b6e0e5",
    "execution": {
     "iopub.execute_input": "2025-10-07T01:22:06.699912Z",
     "iopub.status.busy": "2025-10-07T01:22:06.699544Z",
     "iopub.status.idle": "2025-10-07T01:22:06.709274Z",
     "shell.execute_reply": "2025-10-07T01:22:06.708586Z"
    },
    "papermill": {
     "duration": 0.015957,
     "end_time": "2025-10-07T01:22:06.710660",
     "exception": false,
     "start_time": "2025-10-07T01:22:06.694703",
     "status": "completed"
    },
    "tags": []
   },
   "outputs": [],
   "source": [
    "import warnings\n",
    "warnings.simplefilter('ignore')"
   ]
  },
  {
   "cell_type": "code",
   "execution_count": 2,
   "id": "dfd6c08a",
   "metadata": {
    "execution": {
     "iopub.execute_input": "2025-10-07T01:22:06.717791Z",
     "iopub.status.busy": "2025-10-07T01:22:06.717505Z",
     "iopub.status.idle": "2025-10-07T01:22:09.974224Z",
     "shell.execute_reply": "2025-10-07T01:22:09.973286Z"
    },
    "papermill": {
     "duration": 3.261673,
     "end_time": "2025-10-07T01:22:09.975645",
     "exception": false,
     "start_time": "2025-10-07T01:22:06.713972",
     "status": "completed"
    },
    "tags": []
   },
   "outputs": [
    {
     "name": "stdout",
     "output_type": "stream",
     "text": [
      "Train Shape: (517754, 14)\n",
      "Test Shape: (172585, 13)\n",
      "Orig Shape: (112000, 13)\n"
     ]
    },
    {
     "data": {
      "text/html": [
       "<div>\n",
       "<style scoped>\n",
       "    .dataframe tbody tr th:only-of-type {\n",
       "        vertical-align: middle;\n",
       "    }\n",
       "\n",
       "    .dataframe tbody tr th {\n",
       "        vertical-align: top;\n",
       "    }\n",
       "\n",
       "    .dataframe thead th {\n",
       "        text-align: right;\n",
       "    }\n",
       "</style>\n",
       "<table border=\"1\" class=\"dataframe\">\n",
       "  <thead>\n",
       "    <tr style=\"text-align: right;\">\n",
       "      <th></th>\n",
       "      <th>id</th>\n",
       "      <th>road_type</th>\n",
       "      <th>num_lanes</th>\n",
       "      <th>curvature</th>\n",
       "      <th>speed_limit</th>\n",
       "      <th>lighting</th>\n",
       "      <th>weather</th>\n",
       "      <th>road_signs_present</th>\n",
       "      <th>public_road</th>\n",
       "      <th>time_of_day</th>\n",
       "      <th>holiday</th>\n",
       "      <th>school_season</th>\n",
       "      <th>num_reported_accidents</th>\n",
       "      <th>accident_risk</th>\n",
       "    </tr>\n",
       "  </thead>\n",
       "  <tbody>\n",
       "    <tr>\n",
       "      <th>0</th>\n",
       "      <td>0</td>\n",
       "      <td>urban</td>\n",
       "      <td>2</td>\n",
       "      <td>0.06</td>\n",
       "      <td>35</td>\n",
       "      <td>daylight</td>\n",
       "      <td>rainy</td>\n",
       "      <td>False</td>\n",
       "      <td>True</td>\n",
       "      <td>afternoon</td>\n",
       "      <td>False</td>\n",
       "      <td>True</td>\n",
       "      <td>1</td>\n",
       "      <td>0.13</td>\n",
       "    </tr>\n",
       "    <tr>\n",
       "      <th>1</th>\n",
       "      <td>1</td>\n",
       "      <td>urban</td>\n",
       "      <td>4</td>\n",
       "      <td>0.99</td>\n",
       "      <td>35</td>\n",
       "      <td>daylight</td>\n",
       "      <td>clear</td>\n",
       "      <td>True</td>\n",
       "      <td>False</td>\n",
       "      <td>evening</td>\n",
       "      <td>True</td>\n",
       "      <td>True</td>\n",
       "      <td>0</td>\n",
       "      <td>0.35</td>\n",
       "    </tr>\n",
       "    <tr>\n",
       "      <th>2</th>\n",
       "      <td>2</td>\n",
       "      <td>rural</td>\n",
       "      <td>4</td>\n",
       "      <td>0.63</td>\n",
       "      <td>70</td>\n",
       "      <td>dim</td>\n",
       "      <td>clear</td>\n",
       "      <td>False</td>\n",
       "      <td>True</td>\n",
       "      <td>morning</td>\n",
       "      <td>True</td>\n",
       "      <td>False</td>\n",
       "      <td>2</td>\n",
       "      <td>0.30</td>\n",
       "    </tr>\n",
       "  </tbody>\n",
       "</table>\n",
       "</div>"
      ],
      "text/plain": [
       "   id road_type  num_lanes  curvature  speed_limit  lighting weather  \\\n",
       "0   0     urban          2       0.06           35  daylight   rainy   \n",
       "1   1     urban          4       0.99           35  daylight   clear   \n",
       "2   2     rural          4       0.63           70       dim   clear   \n",
       "\n",
       "   road_signs_present  public_road time_of_day  holiday  school_season  \\\n",
       "0               False         True   afternoon    False           True   \n",
       "1                True        False     evening     True           True   \n",
       "2               False         True     morning     True          False   \n",
       "\n",
       "   num_reported_accidents  accident_risk  \n",
       "0                       1           0.13  \n",
       "1                       0           0.35  \n",
       "2                       2           0.30  "
      ]
     },
     "execution_count": 2,
     "metadata": {},
     "output_type": "execute_result"
    }
   ],
   "source": [
    "import pandas as pd, numpy as np\n",
    "\n",
    "train = pd.read_csv('/kaggle/input/playground-series-s5e10/train.csv')\n",
    "test = pd.read_csv('/kaggle/input/playground-series-s5e10/test.csv')\n",
    "orig = pd.read_csv('/kaggle/input/simulated-roads-accident-data/synthetic_road_accidents_100k.csv')\n",
    "orig_2 = pd.read_csv('/kaggle/input/simulated-roads-accident-data/synthetic_road_accidents_10k.csv')\n",
    "orig_3 = pd.read_csv('/kaggle/input/simulated-roads-accident-data/synthetic_road_accidents_2k.csv')\n",
    "orig = pd.concat([orig, orig_2, orig_3])\n",
    "\n",
    "print('Train Shape:', train.shape)\n",
    "print('Test Shape:', test.shape)\n",
    "print('Orig Shape:', orig.shape)\n",
    "\n",
    "train.head(3)"
   ]
  },
  {
   "cell_type": "code",
   "execution_count": 3,
   "id": "2fe4c0e9",
   "metadata": {
    "execution": {
     "iopub.execute_input": "2025-10-07T01:22:09.984507Z",
     "iopub.status.busy": "2025-10-07T01:22:09.983715Z",
     "iopub.status.idle": "2025-10-07T01:22:09.989291Z",
     "shell.execute_reply": "2025-10-07T01:22:09.988487Z"
    },
    "papermill": {
     "duration": 0.011298,
     "end_time": "2025-10-07T01:22:09.990678",
     "exception": false,
     "start_time": "2025-10-07T01:22:09.979380",
     "status": "completed"
    },
    "tags": []
   },
   "outputs": [
    {
     "name": "stdout",
     "output_type": "stream",
     "text": [
      "12 Base Features:['road_type', 'num_lanes', 'curvature', 'speed_limit', 'lighting', 'weather', 'road_signs_present', 'public_road', 'time_of_day', 'holiday', 'school_season', 'num_reported_accidents']\n"
     ]
    }
   ],
   "source": [
    "TARGET = 'accident_risk'\n",
    "BASE = [col for col in train.columns if col not in ['id', TARGET]]\n",
    "CATS = ['road_type', 'lighting', 'weather', 'road_signs_present', 'public_road', 'time_of_day', 'holiday', 'school_season']\n",
    "print(f'{len(BASE)} Base Features:{BASE}')"
   ]
  },
  {
   "cell_type": "code",
   "execution_count": 4,
   "id": "d6883d14",
   "metadata": {
    "execution": {
     "iopub.execute_input": "2025-10-07T01:22:09.998499Z",
     "iopub.status.busy": "2025-10-07T01:22:09.997751Z",
     "iopub.status.idle": "2025-10-07T01:22:11.493720Z",
     "shell.execute_reply": "2025-10-07T01:22:11.492583Z"
    },
    "papermill": {
     "duration": 1.501278,
     "end_time": "2025-10-07T01:22:11.495290",
     "exception": false,
     "start_time": "2025-10-07T01:22:09.994012",
     "status": "completed"
    },
    "tags": []
   },
   "outputs": [
    {
     "name": "stdout",
     "output_type": "stream",
     "text": [
      "12 Orig Features Created!!\n"
     ]
    }
   ],
   "source": [
    "ORIG = []\n",
    "\n",
    "for col in BASE:\n",
    "    tmp = orig.groupby(col)[TARGET].mean()\n",
    "    new_col_name = f\"orig_{col}\"\n",
    "    tmp.name = new_col_name\n",
    "    train = train.merge(tmp, on=col, how='left')\n",
    "    test = test.merge(tmp, on=col, how='left')\n",
    "    ORIG.append(new_col_name)\n",
    "\n",
    "print(len(ORIG), 'Orig Features Created!!')"
   ]
  },
  {
   "cell_type": "code",
   "execution_count": 5,
   "id": "b15836c6",
   "metadata": {
    "execution": {
     "iopub.execute_input": "2025-10-07T01:22:11.502900Z",
     "iopub.status.busy": "2025-10-07T01:22:11.502199Z",
     "iopub.status.idle": "2025-10-07T01:22:12.971406Z",
     "shell.execute_reply": "2025-10-07T01:22:12.970658Z"
    },
    "papermill": {
     "duration": 1.474598,
     "end_time": "2025-10-07T01:22:12.973028",
     "exception": false,
     "start_time": "2025-10-07T01:22:11.498430",
     "status": "completed"
    },
    "tags": []
   },
   "outputs": [],
   "source": [
    "# https://www.kaggle.com/competitions/playground-series-s5e10/discussion/609994#3296622\n",
    "\n",
    "from scipy.stats import norm\n",
    "\n",
    "def f(X):\n",
    "    return (\n",
    "        0.3 * X[\"curvature\"] +\n",
    "        0.2 * (X[\"lighting\"] == \"night\").astype(int) +\n",
    "        0.1 * (X[\"weather\"] != \"clear\").astype(int) +\n",
    "        0.2 * (X[\"speed_limit\"] >= 60).astype(int) +\n",
    "        0.1 * (X[\"num_reported_accidents\"] > 2).astype(int)\n",
    "    )\n",
    "\n",
    "def clip(f_to_clip):\n",
    "    def clip_f(X):\n",
    "        sigma = 0.05\n",
    "        mu = f_to_clip(X)\n",
    "        a = -mu / sigma\n",
    "        b = (1 - mu) / sigma\n",
    "        \n",
    "        Phi_a = norm.cdf(a)\n",
    "        Phi_b = norm.cdf(b)\n",
    "        phi_a = norm.pdf(a)\n",
    "        phi_b = norm.pdf(b)\n",
    "        \n",
    "        return mu * (Phi_b - Phi_a) + sigma * (phi_a - phi_b) + 1 - Phi_b\n",
    "        \n",
    "    return clip_f\n",
    "\n",
    "META = []\n",
    "\n",
    "clipped_f = clip(f)\n",
    "for df in [train, test, orig]:\n",
    "    df['Meta'] = clipped_f(df)\n",
    "\n",
    "META.append('Meta')"
   ]
  },
  {
   "cell_type": "code",
   "execution_count": 6,
   "id": "ad90e507",
   "metadata": {
    "execution": {
     "iopub.execute_input": "2025-10-07T01:22:12.980996Z",
     "iopub.status.busy": "2025-10-07T01:22:12.980252Z",
     "iopub.status.idle": "2025-10-07T01:22:12.985224Z",
     "shell.execute_reply": "2025-10-07T01:22:12.984396Z"
    },
    "papermill": {
     "duration": 0.010193,
     "end_time": "2025-10-07T01:22:12.986480",
     "exception": false,
     "start_time": "2025-10-07T01:22:12.976287",
     "status": "completed"
    },
    "tags": []
   },
   "outputs": [
    {
     "name": "stdout",
     "output_type": "stream",
     "text": [
      "25 Features.\n"
     ]
    }
   ],
   "source": [
    "FEATURES = BASE + ORIG + META\n",
    "print(len(FEATURES), 'Features.')"
   ]
  },
  {
   "cell_type": "code",
   "execution_count": 7,
   "id": "e66d9c98",
   "metadata": {
    "execution": {
     "iopub.execute_input": "2025-10-07T01:22:12.993620Z",
     "iopub.status.busy": "2025-10-07T01:22:12.993327Z",
     "iopub.status.idle": "2025-10-07T01:22:13.035524Z",
     "shell.execute_reply": "2025-10-07T01:22:13.034650Z"
    },
    "papermill": {
     "duration": 0.047537,
     "end_time": "2025-10-07T01:22:13.037113",
     "exception": false,
     "start_time": "2025-10-07T01:22:12.989576",
     "status": "completed"
    },
    "tags": []
   },
   "outputs": [],
   "source": [
    "X = train[FEATURES]\n",
    "y = train[TARGET]"
   ]
  },
  {
   "cell_type": "code",
   "execution_count": 8,
   "id": "eafa5be7",
   "metadata": {
    "execution": {
     "iopub.execute_input": "2025-10-07T01:22:13.044461Z",
     "iopub.status.busy": "2025-10-07T01:22:13.044181Z",
     "iopub.status.idle": "2025-10-07T01:22:13.281852Z",
     "shell.execute_reply": "2025-10-07T01:22:13.281187Z"
    },
    "papermill": {
     "duration": 0.243034,
     "end_time": "2025-10-07T01:22:13.283382",
     "exception": false,
     "start_time": "2025-10-07T01:22:13.040348",
     "status": "completed"
    },
    "tags": []
   },
   "outputs": [],
   "source": [
    "from sklearn.model_selection import KFold\n",
    "\n",
    "N_SPLITS = 5\n",
    "kf = KFold(n_splits=N_SPLITS, shuffle=True, random_state=42)"
   ]
  },
  {
   "cell_type": "code",
   "execution_count": 9,
   "id": "53474de7",
   "metadata": {
    "execution": {
     "iopub.execute_input": "2025-10-07T01:22:13.291114Z",
     "iopub.status.busy": "2025-10-07T01:22:13.290793Z",
     "iopub.status.idle": "2025-10-07T01:22:13.538521Z",
     "shell.execute_reply": "2025-10-07T01:22:13.537749Z"
    },
    "papermill": {
     "duration": 0.25324,
     "end_time": "2025-10-07T01:22:13.539985",
     "exception": false,
     "start_time": "2025-10-07T01:22:13.286745",
     "status": "completed"
    },
    "tags": []
   },
   "outputs": [],
   "source": [
    "from xgboost import XGBRegressor\n",
    "from sklearn.metrics import mean_squared_error"
   ]
  },
  {
   "cell_type": "code",
   "execution_count": 10,
   "id": "89497dbe",
   "metadata": {
    "execution": {
     "iopub.execute_input": "2025-10-07T01:22:13.547357Z",
     "iopub.status.busy": "2025-10-07T01:22:13.547072Z",
     "iopub.status.idle": "2025-10-07T01:22:13.551549Z",
     "shell.execute_reply": "2025-10-07T01:22:13.550907Z"
    },
    "papermill": {
     "duration": 0.009551,
     "end_time": "2025-10-07T01:22:13.552702",
     "exception": false,
     "start_time": "2025-10-07T01:22:13.543151",
     "status": "completed"
    },
    "tags": []
   },
   "outputs": [],
   "source": [
    "# RANDOM SEARCH\n",
    "params = {'subsample': 0.8,\n",
    "          'colsample_bytree': 0.8,\n",
    "          'max_bin': 2000,\n",
    "          'gamma': 0, \n",
    "          'grow_policy': 'depthwise',\n",
    "          'max_depth': 7,\n",
    "          'max_leaves': 0,\n",
    "          'n_estimators': 100000, \n",
    "          'learning_rate': 0.01,\n",
    "          'device': 'cuda',\n",
    "          'early_stopping_rounds': 100,\n",
    "          'enable_categorical': True\n",
    "         }"
   ]
  },
  {
   "cell_type": "code",
   "execution_count": 11,
   "id": "3bc1b158",
   "metadata": {
    "execution": {
     "iopub.execute_input": "2025-10-07T01:22:13.560577Z",
     "iopub.status.busy": "2025-10-07T01:22:13.559906Z",
     "iopub.status.idle": "2025-10-07T01:50:15.107502Z",
     "shell.execute_reply": "2025-10-07T01:50:15.106463Z"
    },
    "papermill": {
     "duration": 1681.552953,
     "end_time": "2025-10-07T01:50:15.108907",
     "exception": false,
     "start_time": "2025-10-07T01:22:13.555954",
     "status": "completed"
    },
    "tags": []
   },
   "outputs": [
    {
     "name": "stdout",
     "output_type": "stream",
     "text": [
      "---Fold 1/5---\n",
      "[0]\tvalidation_0-rmse:0.16471\n",
      "[1461]\tvalidation_0-rmse:0.05613\n",
      "[0]\tvalidation_0-rmse:0.16471\n",
      "[1546]\tvalidation_0-rmse:0.05612\n",
      "[0]\tvalidation_0-rmse:0.16474\n",
      "[1652]\tvalidation_0-rmse:0.05612\n",
      "[0]\tvalidation_0-rmse:0.16471\n",
      "[1399]\tvalidation_0-rmse:0.05613\n",
      "[0]\tvalidation_0-rmse:0.16471\n",
      "[1525]\tvalidation_0-rmse:0.05612\n",
      "[0]\tvalidation_0-rmse:0.16471\n",
      "[1591]\tvalidation_0-rmse:0.05612\n",
      "[0]\tvalidation_0-rmse:0.16471\n",
      "[1695]\tvalidation_0-rmse:0.05613\n",
      "[0]\tvalidation_0-rmse:0.16471\n",
      "[1706]\tvalidation_0-rmse:0.05612\n",
      "[0]\tvalidation_0-rmse:0.16471\n",
      "[1747]\tvalidation_0-rmse:0.05613\n",
      "[0]\tvalidation_0-rmse:0.16471\n",
      "[1588]\tvalidation_0-rmse:0.05612\n",
      "[0]\tvalidation_0-rmse:0.16471\n",
      "[1543]\tvalidation_0-rmse:0.05612\n",
      "[0]\tvalidation_0-rmse:0.16471\n",
      "[1756]\tvalidation_0-rmse:0.05612\n",
      "[0]\tvalidation_0-rmse:0.16471\n",
      "[1694]\tvalidation_0-rmse:0.05612\n",
      "[0]\tvalidation_0-rmse:0.16471\n",
      "[1675]\tvalidation_0-rmse:0.05612\n",
      "[0]\tvalidation_0-rmse:0.16471\n",
      "[1538]\tvalidation_0-rmse:0.05612\n",
      "[0]\tvalidation_0-rmse:0.16471\n",
      "[1647]\tvalidation_0-rmse:0.05612\n",
      "[0]\tvalidation_0-rmse:0.16471\n",
      "[1589]\tvalidation_0-rmse:0.05612\n",
      "[0]\tvalidation_0-rmse:0.16471\n",
      "[1504]\tvalidation_0-rmse:0.05613\n",
      "[0]\tvalidation_0-rmse:0.16471\n",
      "[1434]\tvalidation_0-rmse:0.05613\n",
      "[0]\tvalidation_0-rmse:0.16471\n",
      "[1461]\tvalidation_0-rmse:0.05612\n",
      "Fold 1 RMSE: 0.05611848687306988\n",
      "---Fold 2/5---\n",
      "[0]\tvalidation_0-rmse:0.16499\n",
      "[1426]\tvalidation_0-rmse:0.05598\n",
      "[0]\tvalidation_0-rmse:0.16499\n",
      "[1557]\tvalidation_0-rmse:0.05599\n",
      "[0]\tvalidation_0-rmse:0.16502\n",
      "[1515]\tvalidation_0-rmse:0.05599\n",
      "[0]\tvalidation_0-rmse:0.16499\n",
      "[1442]\tvalidation_0-rmse:0.05599\n",
      "[0]\tvalidation_0-rmse:0.16499\n",
      "[1447]\tvalidation_0-rmse:0.05598\n",
      "[0]\tvalidation_0-rmse:0.16499\n",
      "[1580]\tvalidation_0-rmse:0.05598\n",
      "[0]\tvalidation_0-rmse:0.16499\n",
      "[1558]\tvalidation_0-rmse:0.05598\n",
      "[0]\tvalidation_0-rmse:0.16499\n",
      "[1577]\tvalidation_0-rmse:0.05598\n",
      "[0]\tvalidation_0-rmse:0.16499\n",
      "[1442]\tvalidation_0-rmse:0.05599\n",
      "[0]\tvalidation_0-rmse:0.16499\n",
      "[1586]\tvalidation_0-rmse:0.05599\n",
      "[0]\tvalidation_0-rmse:0.16499\n",
      "[1562]\tvalidation_0-rmse:0.05598\n",
      "[0]\tvalidation_0-rmse:0.16499\n",
      "[1508]\tvalidation_0-rmse:0.05598\n",
      "[0]\tvalidation_0-rmse:0.16499\n",
      "[1459]\tvalidation_0-rmse:0.05599\n",
      "[0]\tvalidation_0-rmse:0.16499\n",
      "[1573]\tvalidation_0-rmse:0.05599\n",
      "[0]\tvalidation_0-rmse:0.16499\n",
      "[1484]\tvalidation_0-rmse:0.05599\n",
      "[0]\tvalidation_0-rmse:0.16499\n",
      "[1530]\tvalidation_0-rmse:0.05599\n",
      "[0]\tvalidation_0-rmse:0.16499\n",
      "[1550]\tvalidation_0-rmse:0.05598\n",
      "[0]\tvalidation_0-rmse:0.16499\n",
      "[1433]\tvalidation_0-rmse:0.05599\n",
      "[0]\tvalidation_0-rmse:0.16499\n",
      "[1427]\tvalidation_0-rmse:0.05599\n",
      "[0]\tvalidation_0-rmse:0.16499\n",
      "[1579]\tvalidation_0-rmse:0.05599\n",
      "Fold 2 RMSE: 0.05598090224406157\n",
      "---Fold 3/5---\n",
      "[0]\tvalidation_0-rmse:0.16542\n",
      "[1394]\tvalidation_0-rmse:0.05605\n",
      "[0]\tvalidation_0-rmse:0.16542\n",
      "[1309]\tvalidation_0-rmse:0.05605\n",
      "[0]\tvalidation_0-rmse:0.16546\n",
      "[1251]\tvalidation_0-rmse:0.05605\n",
      "[0]\tvalidation_0-rmse:0.16542\n",
      "[1485]\tvalidation_0-rmse:0.05606\n",
      "[0]\tvalidation_0-rmse:0.16542\n",
      "[1360]\tvalidation_0-rmse:0.05605\n",
      "[0]\tvalidation_0-rmse:0.16542\n",
      "[1272]\tvalidation_0-rmse:0.05605\n",
      "[0]\tvalidation_0-rmse:0.16542\n",
      "[1274]\tvalidation_0-rmse:0.05605\n",
      "[0]\tvalidation_0-rmse:0.16542\n",
      "[1353]\tvalidation_0-rmse:0.05605\n",
      "[0]\tvalidation_0-rmse:0.16542\n",
      "[1328]\tvalidation_0-rmse:0.05605\n",
      "[0]\tvalidation_0-rmse:0.16542\n",
      "[1504]\tvalidation_0-rmse:0.05605\n",
      "[0]\tvalidation_0-rmse:0.16542\n",
      "[1280]\tvalidation_0-rmse:0.05606\n",
      "[0]\tvalidation_0-rmse:0.16542\n",
      "[1237]\tvalidation_0-rmse:0.05605\n",
      "[0]\tvalidation_0-rmse:0.16542\n",
      "[1376]\tvalidation_0-rmse:0.05606\n",
      "[0]\tvalidation_0-rmse:0.16542\n",
      "[1283]\tvalidation_0-rmse:0.05606\n",
      "[0]\tvalidation_0-rmse:0.16542\n",
      "[1405]\tvalidation_0-rmse:0.05605\n",
      "[0]\tvalidation_0-rmse:0.16542\n",
      "[1364]\tvalidation_0-rmse:0.05605\n",
      "[0]\tvalidation_0-rmse:0.16542\n",
      "[1469]\tvalidation_0-rmse:0.05605\n",
      "[0]\tvalidation_0-rmse:0.16542\n",
      "[1349]\tvalidation_0-rmse:0.05605\n",
      "[0]\tvalidation_0-rmse:0.16542\n",
      "[1336]\tvalidation_0-rmse:0.05606\n",
      "[0]\tvalidation_0-rmse:0.16542\n",
      "[1416]\tvalidation_0-rmse:0.05605\n",
      "Fold 3 RMSE: 0.056047569679351116\n",
      "---Fold 4/5---\n",
      "[0]\tvalidation_0-rmse:0.16454\n",
      "[1573]\tvalidation_0-rmse:0.05589\n",
      "[0]\tvalidation_0-rmse:0.16454\n",
      "[1498]\tvalidation_0-rmse:0.05589\n",
      "[0]\tvalidation_0-rmse:0.16458\n",
      "[1544]\tvalidation_0-rmse:0.05589\n",
      "[0]\tvalidation_0-rmse:0.16454\n",
      "[1686]\tvalidation_0-rmse:0.05590\n",
      "[0]\tvalidation_0-rmse:0.16454\n",
      "[1629]\tvalidation_0-rmse:0.05589\n",
      "[0]\tvalidation_0-rmse:0.16454\n",
      "[1493]\tvalidation_0-rmse:0.05588\n",
      "[0]\tvalidation_0-rmse:0.16454\n",
      "[1545]\tvalidation_0-rmse:0.05589\n",
      "[0]\tvalidation_0-rmse:0.16455\n",
      "[1602]\tvalidation_0-rmse:0.05590\n",
      "[0]\tvalidation_0-rmse:0.16454\n",
      "[1501]\tvalidation_0-rmse:0.05589\n",
      "[0]\tvalidation_0-rmse:0.16454\n",
      "[1770]\tvalidation_0-rmse:0.05589\n",
      "[0]\tvalidation_0-rmse:0.16454\n",
      "[1684]\tvalidation_0-rmse:0.05589\n",
      "[0]\tvalidation_0-rmse:0.16454\n",
      "[1399]\tvalidation_0-rmse:0.05590\n",
      "[0]\tvalidation_0-rmse:0.16454\n",
      "[1722]\tvalidation_0-rmse:0.05589\n",
      "[0]\tvalidation_0-rmse:0.16454\n",
      "[1452]\tvalidation_0-rmse:0.05589\n",
      "[0]\tvalidation_0-rmse:0.16454\n",
      "[1467]\tvalidation_0-rmse:0.05589\n",
      "[0]\tvalidation_0-rmse:0.16454\n",
      "[1515]\tvalidation_0-rmse:0.05589\n",
      "[0]\tvalidation_0-rmse:0.16455\n",
      "[1592]\tvalidation_0-rmse:0.05589\n",
      "[0]\tvalidation_0-rmse:0.16454\n",
      "[1619]\tvalidation_0-rmse:0.05589\n",
      "[0]\tvalidation_0-rmse:0.16454\n",
      "[1640]\tvalidation_0-rmse:0.05589\n",
      "[0]\tvalidation_0-rmse:0.16454\n",
      "[1529]\tvalidation_0-rmse:0.05589\n",
      "Fold 4 RMSE: 0.05588449594647492\n",
      "---Fold 5/5---\n",
      "[0]\tvalidation_0-rmse:0.16509\n",
      "[1736]\tvalidation_0-rmse:0.05581\n",
      "[0]\tvalidation_0-rmse:0.16509\n",
      "[1719]\tvalidation_0-rmse:0.05580\n",
      "[0]\tvalidation_0-rmse:0.16512\n",
      "[1611]\tvalidation_0-rmse:0.05580\n",
      "[0]\tvalidation_0-rmse:0.16508\n",
      "[1543]\tvalidation_0-rmse:0.05581\n",
      "[0]\tvalidation_0-rmse:0.16509\n",
      "[1730]\tvalidation_0-rmse:0.05581\n",
      "[0]\tvalidation_0-rmse:0.16509\n",
      "[1758]\tvalidation_0-rmse:0.05580\n",
      "[0]\tvalidation_0-rmse:0.16509\n",
      "[1676]\tvalidation_0-rmse:0.05581\n",
      "[0]\tvalidation_0-rmse:0.16509\n",
      "[1558]\tvalidation_0-rmse:0.05580\n",
      "[0]\tvalidation_0-rmse:0.16508\n",
      "[1718]\tvalidation_0-rmse:0.05580\n",
      "[0]\tvalidation_0-rmse:0.16508\n",
      "[1741]\tvalidation_0-rmse:0.05580\n",
      "[0]\tvalidation_0-rmse:0.16509\n",
      "[1734]\tvalidation_0-rmse:0.05580\n",
      "[0]\tvalidation_0-rmse:0.16509\n",
      "[1705]\tvalidation_0-rmse:0.05581\n",
      "[0]\tvalidation_0-rmse:0.16508\n",
      "[1539]\tvalidation_0-rmse:0.05581\n",
      "[0]\tvalidation_0-rmse:0.16508\n",
      "[1642]\tvalidation_0-rmse:0.05580\n",
      "[0]\tvalidation_0-rmse:0.16509\n",
      "[1698]\tvalidation_0-rmse:0.05580\n",
      "[0]\tvalidation_0-rmse:0.16508\n",
      "[1444]\tvalidation_0-rmse:0.05581\n",
      "[0]\tvalidation_0-rmse:0.16509\n",
      "[1624]\tvalidation_0-rmse:0.05580\n",
      "[0]\tvalidation_0-rmse:0.16508\n",
      "[1488]\tvalidation_0-rmse:0.05581\n",
      "[0]\tvalidation_0-rmse:0.16508\n",
      "[1502]\tvalidation_0-rmse:0.05580\n",
      "[0]\tvalidation_0-rmse:0.16508\n",
      "[1603]\tvalidation_0-rmse:0.05581\n",
      "Fold 5 RMSE: 0.05579903975989523\n",
      "Overall OOF RMSE: 0.05597\n"
     ]
    }
   ],
   "source": [
    "import random\n",
    "\n",
    "oof_preds = np.zeros(len(X))\n",
    "test_preds = np.zeros(len(test))\n",
    "\n",
    "population = range(1, 100001)\n",
    "SEED = random.sample(population, 20)\n",
    "\n",
    "for fold, (train_idx, val_idx) in enumerate(kf.split(X)):\n",
    "    print(f'---Fold {fold+1}/{N_SPLITS}---')\n",
    "    \n",
    "    X_train, X_val = X.iloc[train_idx], X.iloc[val_idx]\n",
    "    y_train, y_val = y.iloc[train_idx], y.iloc[val_idx] \n",
    "\n",
    "    X_test = test[FEATURES].copy()\n",
    "\n",
    "    X_train[CATS] = X_train[CATS].astype('category')    \n",
    "    X_val[CATS] = X_val[CATS].astype('category')    \n",
    "    X_test[CATS] = X_test[CATS].astype('category')    \n",
    "\n",
    "    for seed in SEED:\n",
    "    \n",
    "        params['seed'] = seed\n",
    "        model = XGBRegressor(**params)\n",
    "        model.fit(X_train, y_train,\n",
    "                  eval_set=[(X_val, y_val)],\n",
    "                  verbose=2000, \n",
    "                 )\n",
    "\n",
    "        oof_preds[val_idx] +=  model.predict(X_val) / len(SEED)\n",
    "        test_preds += model.predict(X_test) / len(SEED)\n",
    "\n",
    "    print(f\"Fold {fold+1} RMSE: {mean_squared_error(y_val, oof_preds[val_idx], squared=False)}\")\n",
    "\n",
    "test_preds /= N_SPLITS\n",
    "\n",
    "print(f\"Overall OOF RMSE: {mean_squared_error(y, oof_preds, squared=False):.5f}\")"
   ]
  },
  {
   "cell_type": "code",
   "execution_count": 12,
   "id": "42951125",
   "metadata": {
    "execution": {
     "iopub.execute_input": "2025-10-07T01:50:15.134813Z",
     "iopub.status.busy": "2025-10-07T01:50:15.134516Z",
     "iopub.status.idle": "2025-10-07T01:50:16.190659Z",
     "shell.execute_reply": "2025-10-07T01:50:16.189881Z"
    },
    "papermill": {
     "duration": 1.072882,
     "end_time": "2025-10-07T01:50:16.193940",
     "exception": false,
     "start_time": "2025-10-07T01:50:15.121058",
     "status": "completed"
    },
    "tags": []
   },
   "outputs": [
    {
     "data": {
      "image/png": "[encoded data removed]",
      "text/plain": [
       "<Figure size 1200x2000 with 1 Axes>"
      ]
     },
     "metadata": {},
     "output_type": "display_data"
    }
   ],
   "source": [
    "import seaborn as sns\n",
    "import matplotlib.pyplot as plt\n",
    "\n",
    "feature_importances = model.feature_importances_\n",
    "\n",
    "importance_df = pd.DataFrame({\n",
    "    'feature': FEATURES, \n",
    "    'importance': feature_importances\n",
    "})\n",
    "\n",
    "importance_df = importance_df.sort_values('importance', ascending=False)\n",
    "\n",
    "plt.style.use('fivethirtyeight')\n",
    "plt.figure(figsize=(12, 20))\n",
    "sns.barplot(x='importance', \n",
    "            y='feature', \n",
    "            data=importance_df.head(50)) \n",
    "plt.title('Feature Importance (Fold5 model)')\n",
    "plt.xlabel('Importance Score')\n",
    "plt.ylabel('Features')\n",
    "plt.tight_layout()\n",
    "plt.show()"
   ]
  },
  {
   "cell_type": "code",
   "execution_count": 13,
   "id": "0fc11a98",
   "metadata": {
    "execution": {
     "iopub.execute_input": "2025-10-07T01:50:16.223822Z",
     "iopub.status.busy": "2025-10-07T01:50:16.223356Z",
     "iopub.status.idle": "2025-10-07T01:50:17.828702Z",
     "shell.execute_reply": "2025-10-07T01:50:17.827928Z"
    },
    "papermill": {
     "duration": 1.621877,
     "end_time": "2025-10-07T01:50:17.830304",
     "exception": false,
     "start_time": "2025-10-07T01:50:16.208427",
     "status": "completed"
    },
    "tags": []
   },
   "outputs": [],
   "source": [
    "pd.DataFrame({'id': train.id, TARGET: oof_preds}).to_csv('oof_xgb_plus_origcol.csv', index=False)\n",
    "pd.DataFrame({'id': test.id, TARGET: test_preds}).to_csv('test_xgb_plus_origcol.csv', index=False)"
   ]
  }
 ],
 "metadata": {
  "kaggle": {
   "accelerator": "nvidiaTeslaT4",
   "dataSources": [
    {
     "databundleVersionId": 13760552,
     "sourceId": 91721,
     "sourceType": "competition"
    },
    {
     "datasetId": 7797612,
     "sourceId": 12367739,
     "sourceType": "datasetVersion"
    }
   ],
   "dockerImageVersionId": 31090,
   "isGpuEnabled": true,
   "isInternetEnabled": true,
   "language": "python",
   "sourceType": "notebook"
  },
  "kernelspec": {
   "display_name": "Python 3",
   "language": "python",
   "name": "python3"
  },
  "language_info": {
   "codemirror_mode": {
    "name": "ipython",
    "version": 3
   },
   "file_extension": ".py",
   "mimetype": "text/x-python",
   "name": "python",
   "nbconvert_exporter": "python",
   "pygments_lexer": "ipython3",
   "version": "3.11.13"
  },
  "papermill": {
   "default_parameters": {},
   "duration": 1696.772875,
   "end_time": "2025-10-07T01:50:18.566364",
   "environment_variables": {},
   "exception": null,
   "input_path": "__notebook__.ipynb",
   "output_path": "__notebook__.ipynb",
   "parameters": {},
   "start_time": "2025-10-07T01:22:01.793489",
   "version": "2.6.0"
  }
 },
 "nbformat": 4,
 "nbformat_minor": 5
}
