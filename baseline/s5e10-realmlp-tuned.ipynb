{
 "cells": [
  {
   "cell_type": "code",
   "execution_count": 1,
   "id": "622c4534",
   "metadata": {
    "execution": {
     "iopub.execute_input": "2025-10-09T12:04:47.663867Z",
     "iopub.status.busy": "2025-10-09T12:04:47.663180Z",
     "iopub.status.idle": "2025-10-09T12:06:04.655457Z",
     "shell.execute_reply": "2025-10-09T12:06:04.654589Z"
    },
    "papermill": {
     "duration": 76.998395,
     "end_time": "2025-10-09T12:06:04.657206",
     "exception": false,
     "start_time": "2025-10-09T12:04:47.658811",
     "status": "completed"
    },
    "tags": []
   },
   "outputs": [
    {
     "name": "stdout",
     "output_type": "stream",
     "text": [
      "\u001b[2K   \u001b[90m━━━━━━━━━━━━━━━━━━━━━━━━━━━━━━━━━━━━━━━━\u001b[0m \u001b[32m352.2/352.2 kB\u001b[0m \u001b[31m6.8 MB/s\u001b[0m eta \u001b[36m0:00:00\u001b[0m\r\n",
      "\u001b[2K   \u001b[90m━━━━━━━━━━━━━━━━━━━━━━━━━━━━━━━━━━━━━━━━\u001b[0m \u001b[32m9.7/9.7 MB\u001b[0m \u001b[31m90.4 MB/s\u001b[0m eta \u001b[36m0:00:00\u001b[0m\r\n",
      "\u001b[2K   \u001b[90m━━━━━━━━━━━━━━━━━━━━━━━━━━━━━━━━━━━━━━━━\u001b[0m \u001b[32m363.4/363.4 MB\u001b[0m \u001b[31m3.8 MB/s\u001b[0m eta \u001b[36m0:00:00\u001b[0m\r\n",
      "\u001b[2K   \u001b[90m━━━━━━━━━━━━━━━━━━━━━━━━━━━━━━━━━━━━━━━━\u001b[0m \u001b[32m13.8/13.8 MB\u001b[0m \u001b[31m104.8 MB/s\u001b[0m eta \u001b[36m0:00:00\u001b[0m\r\n",
      "\u001b[2K   \u001b[90m━━━━━━━━━━━━━━━━━━━━━━━━━━━━━━━━━━━━━━━━\u001b[0m \u001b[32m24.6/24.6 MB\u001b[0m \u001b[31m76.7 MB/s\u001b[0m eta \u001b[36m0:00:00\u001b[0m\r\n",
      "\u001b[2K   \u001b[90m━━━━━━━━━━━━━━━━━━━━━━━━━━━━━━━━━━━━━━━━\u001b[0m \u001b[32m883.7/883.7 kB\u001b[0m \u001b[31m47.3 MB/s\u001b[0m eta \u001b[36m0:00:00\u001b[0m\r\n",
      "\u001b[2K   \u001b[90m━━━━━━━━━━━━━━━━━━━━━━━━━━━━━━━━━━━━━━━━\u001b[0m \u001b[32m664.8/664.8 MB\u001b[0m \u001b[31m2.0 MB/s\u001b[0m eta \u001b[36m0:00:00\u001b[0m\r\n",
      "\u001b[2K   \u001b[90m━━━━━━━━━━━━━━━━━━━━━━━━━━━━━━━━━━━━━━━━\u001b[0m \u001b[32m211.5/211.5 MB\u001b[0m \u001b[31m8.1 MB/s\u001b[0m eta \u001b[36m0:00:00\u001b[0m\r\n",
      "\u001b[2K   \u001b[90m━━━━━━━━━━━━━━━━━━━━━━━━━━━━━━━━━━━━━━━━\u001b[0m \u001b[32m56.3/56.3 MB\u001b[0m \u001b[31m31.3 MB/s\u001b[0m eta \u001b[36m0:00:00\u001b[0m\r\n",
      "\u001b[2K   \u001b[90m━━━━━━━━━━━━━━━━━━━━━━━━━━━━━━━━━━━━━━━━\u001b[0m \u001b[32m127.9/127.9 MB\u001b[0m \u001b[31m13.4 MB/s\u001b[0m eta \u001b[36m0:00:00\u001b[0m\r\n",
      "\u001b[2K   \u001b[90m━━━━━━━━━━━━━━━━━━━━━━━━━━━━━━━━━━━━━━━━\u001b[0m \u001b[32m207.5/207.5 MB\u001b[0m \u001b[31m6.2 MB/s\u001b[0m eta \u001b[36m0:00:00\u001b[0m\r\n",
      "\u001b[2K   \u001b[90m━━━━━━━━━━━━━━━━━━━━━━━━━━━━━━━━━━━━━━━━\u001b[0m \u001b[32m21.1/21.1 MB\u001b[0m \u001b[31m87.1 MB/s\u001b[0m eta \u001b[36m0:00:00\u001b[0m\r\n",
      "\u001b[?25h\u001b[31mERROR: pip's dependency resolver does not currently take into account all the packages that are installed. This behaviour is the source of the following dependency conflicts.\r\n",
      "category-encoders 2.7.0 requires scikit-learn<1.6.0,>=1.0.0, but you have scikit-learn 1.7.2 which is incompatible.\r\n",
      "cesium 0.12.4 requires numpy<3.0,>=2.0, but you have numpy 1.26.4 which is incompatible.\r\n",
      "sklearn-compat 0.1.3 requires scikit-learn<1.7,>=1.2, but you have scikit-learn 1.7.2 which is incompatible.\u001b[0m\u001b[31m\r\n",
      "\u001b[0m"
     ]
    }
   ],
   "source": [
    "!pip install -qq pytabkit"
   ]
  },
  {
   "cell_type": "code",
   "execution_count": 2,
   "id": "e32ad546",
   "metadata": {
    "_cell_guid": "b1076dfc-b9ad-4769-8c92-a6c4dae69d19",
    "_uuid": "8f2839f25d086af736a60e9eeb907d3b93b6e0e5",
    "execution": {
     "iopub.execute_input": "2025-10-09T12:06:04.700123Z",
     "iopub.status.busy": "2025-10-09T12:06:04.699872Z",
     "iopub.status.idle": "2025-10-09T12:06:04.703628Z",
     "shell.execute_reply": "2025-10-09T12:06:04.703094Z"
    },
    "papermill": {
     "duration": 0.024344,
     "end_time": "2025-10-09T12:06:04.704666",
     "exception": false,
     "start_time": "2025-10-09T12:06:04.680322",
     "status": "completed"
    },
    "tags": []
   },
   "outputs": [],
   "source": [
    "import warnings\n",
    "warnings.simplefilter('ignore')"
   ]
  },
  {
   "cell_type": "code",
   "execution_count": 3,
   "id": "7c57c7b8",
   "metadata": {
    "execution": {
     "iopub.execute_input": "2025-10-09T12:06:04.742407Z",
     "iopub.status.busy": "2025-10-09T12:06:04.742147Z",
     "iopub.status.idle": "2025-10-09T12:06:08.150556Z",
     "shell.execute_reply": "2025-10-09T12:06:08.149761Z"
    },
    "papermill": {
     "duration": 3.42895,
     "end_time": "2025-10-09T12:06:08.151864",
     "exception": false,
     "start_time": "2025-10-09T12:06:04.722914",
     "status": "completed"
    },
    "tags": []
   },
   "outputs": [
    {
     "name": "stdout",
     "output_type": "stream",
     "text": [
      "Train Shape: (517754, 14)\n",
      "Test Shape: (172585, 13)\n",
      "Orig Shape: (100000, 13)\n"
     ]
    },
    {
     "data": {
      "text/html": [
       "<div>\n",
       "<style scoped>\n",
       "    .dataframe tbody tr th:only-of-type {\n",
       "        vertical-align: middle;\n",
       "    }\n",
       "\n",
       "    .dataframe tbody tr th {\n",
       "        vertical-align: top;\n",
       "    }\n",
       "\n",
       "    .dataframe thead th {\n",
       "        text-align: right;\n",
       "    }\n",
       "</style>\n",
       "<table border=\"1\" class=\"dataframe\">\n",
       "  <thead>\n",
       "    <tr style=\"text-align: right;\">\n",
       "      <th></th>\n",
       "      <th>id</th>\n",
       "      <th>road_type</th>\n",
       "      <th>num_lanes</th>\n",
       "      <th>curvature</th>\n",
       "      <th>speed_limit</th>\n",
       "      <th>lighting</th>\n",
       "      <th>weather</th>\n",
       "      <th>road_signs_present</th>\n",
       "      <th>public_road</th>\n",
       "      <th>time_of_day</th>\n",
       "      <th>holiday</th>\n",
       "      <th>school_season</th>\n",
       "      <th>num_reported_accidents</th>\n",
       "      <th>accident_risk</th>\n",
       "    </tr>\n",
       "  </thead>\n",
       "  <tbody>\n",
       "    <tr>\n",
       "      <th>0</th>\n",
       "      <td>0</td>\n",
       "      <td>urban</td>\n",
       "      <td>2</td>\n",
       "      <td>0.06</td>\n",
       "      <td>35</td>\n",
       "      <td>daylight</td>\n",
       "      <td>rainy</td>\n",
       "      <td>False</td>\n",
       "      <td>True</td>\n",
       "      <td>afternoon</td>\n",
       "      <td>False</td>\n",
       "      <td>True</td>\n",
       "      <td>1</td>\n",
       "      <td>0.13</td>\n",
       "    </tr>\n",
       "    <tr>\n",
       "      <th>1</th>\n",
       "      <td>1</td>\n",
       "      <td>urban</td>\n",
       "      <td>4</td>\n",
       "      <td>0.99</td>\n",
       "      <td>35</td>\n",
       "      <td>daylight</td>\n",
       "      <td>clear</td>\n",
       "      <td>True</td>\n",
       "      <td>False</td>\n",
       "      <td>evening</td>\n",
       "      <td>True</td>\n",
       "      <td>True</td>\n",
       "      <td>0</td>\n",
       "      <td>0.35</td>\n",
       "    </tr>\n",
       "    <tr>\n",
       "      <th>2</th>\n",
       "      <td>2</td>\n",
       "      <td>rural</td>\n",
       "      <td>4</td>\n",
       "      <td>0.63</td>\n",
       "      <td>70</td>\n",
       "      <td>dim</td>\n",
       "      <td>clear</td>\n",
       "      <td>False</td>\n",
       "      <td>True</td>\n",
       "      <td>morning</td>\n",
       "      <td>True</td>\n",
       "      <td>False</td>\n",
       "      <td>2</td>\n",
       "      <td>0.30</td>\n",
       "    </tr>\n",
       "  </tbody>\n",
       "</table>\n",
       "</div>"
      ],
      "text/plain": [
       "   id road_type  num_lanes  curvature  speed_limit  lighting weather  \\\n",
       "0   0     urban          2       0.06           35  daylight   rainy   \n",
       "1   1     urban          4       0.99           35  daylight   clear   \n",
       "2   2     rural          4       0.63           70       dim   clear   \n",
       "\n",
       "   road_signs_present  public_road time_of_day  holiday  school_season  \\\n",
       "0               False         True   afternoon    False           True   \n",
       "1                True        False     evening     True           True   \n",
       "2               False         True     morning     True          False   \n",
       "\n",
       "   num_reported_accidents  accident_risk  \n",
       "0                       1           0.13  \n",
       "1                       0           0.35  \n",
       "2                       2           0.30  "
      ]
     },
     "execution_count": 3,
     "metadata": {},
     "output_type": "execute_result"
    }
   ],
   "source": [
    "import pandas as pd, numpy as np\n",
    "\n",
    "train = pd.read_csv('/kaggle/input/playground-series-s5e10/train.csv')\n",
    "test = pd.read_csv('/kaggle/input/playground-series-s5e10/test.csv')\n",
    "orig = pd.read_csv('/kaggle/input/simulated-roads-accident-data/synthetic_road_accidents_100k.csv')\n",
    "print('Train Shape:', train.shape)\n",
    "print('Test Shape:', test.shape)\n",
    "print('Orig Shape:', orig.shape)\n",
    "\n",
    "train.head(3)"
   ]
  },
  {
   "cell_type": "code",
   "execution_count": 4,
   "id": "0a9532b7",
   "metadata": {
    "execution": {
     "iopub.execute_input": "2025-10-09T12:06:08.190053Z",
     "iopub.status.busy": "2025-10-09T12:06:08.189815Z",
     "iopub.status.idle": "2025-10-09T12:06:08.194334Z",
     "shell.execute_reply": "2025-10-09T12:06:08.193699Z"
    },
    "papermill": {
     "duration": 0.024784,
     "end_time": "2025-10-09T12:06:08.195337",
     "exception": false,
     "start_time": "2025-10-09T12:06:08.170553",
     "status": "completed"
    },
    "tags": []
   },
   "outputs": [
    {
     "name": "stdout",
     "output_type": "stream",
     "text": [
      "12 Base Features:['road_type', 'num_lanes', 'curvature', 'speed_limit', 'lighting', 'weather', 'road_signs_present', 'public_road', 'time_of_day', 'holiday', 'school_season', 'num_reported_accidents']\n"
     ]
    }
   ],
   "source": [
    "TARGET = 'accident_risk'\n",
    "BASE = [col for col in train.columns if col not in ['id', TARGET]]\n",
    "CATS = ['road_type', 'lighting', 'weather', 'road_signs_present', 'public_road', 'time_of_day', 'holiday', 'school_season']\n",
    "\n",
    "print(f'{len(BASE)} Base Features:{BASE}')"
   ]
  },
  {
   "cell_type": "code",
   "execution_count": 5,
   "id": "59b21436",
   "metadata": {
    "execution": {
     "iopub.execute_input": "2025-10-09T12:06:08.233848Z",
     "iopub.status.busy": "2025-10-09T12:06:08.233593Z",
     "iopub.status.idle": "2025-10-09T12:06:09.492028Z",
     "shell.execute_reply": "2025-10-09T12:06:09.491222Z"
    },
    "papermill": {
     "duration": 1.279299,
     "end_time": "2025-10-09T12:06:09.493168",
     "exception": false,
     "start_time": "2025-10-09T12:06:08.213869",
     "status": "completed"
    },
    "tags": []
   },
   "outputs": [
    {
     "name": "stdout",
     "output_type": "stream",
     "text": [
      "12 Orig Features Created!!\n"
     ]
    }
   ],
   "source": [
    "ORIG = []\n",
    "\n",
    "for col in BASE:\n",
    "    tmp = orig.groupby(col)[TARGET].mean()\n",
    "    new_col_name = f\"orig_{col}\"\n",
    "    tmp.name = new_col_name\n",
    "    train = train.merge(tmp, on=col, how='left')\n",
    "    test = test.merge(tmp, on=col, how='left')\n",
    "    ORIG.append(new_col_name)\n",
    "\n",
    "print(len(ORIG), 'Orig Features Created!!')"
   ]
  },
  {
   "cell_type": "code",
   "execution_count": 6,
   "id": "8d240f1e",
   "metadata": {
    "execution": {
     "iopub.execute_input": "2025-10-09T12:06:09.532496Z",
     "iopub.status.busy": "2025-10-09T12:06:09.532009Z",
     "iopub.status.idle": "2025-10-09T12:06:09.665905Z",
     "shell.execute_reply": "2025-10-09T12:06:09.665303Z"
    },
    "papermill": {
     "duration": 0.154465,
     "end_time": "2025-10-09T12:06:09.667209",
     "exception": false,
     "start_time": "2025-10-09T12:06:09.512744",
     "status": "completed"
    },
    "tags": []
   },
   "outputs": [],
   "source": [
    "META = []\n",
    "\n",
    "for df in [train, test, orig]:\n",
    "    base_risk = (\n",
    "        0.3 * df[\"curvature\"] + \n",
    "        0.2 * (df[\"lighting\"] == \"night\").astype(int) + \n",
    "        0.1 * (df[\"weather\"] != \"clear\").astype(int) + \n",
    "        0.2 * (df[\"speed_limit\"] >= 60).astype(int) + \n",
    "        0.1 * (np.array(df[\"num_reported_accidents\"]) > 2).astype(int)\n",
    "    )\n",
    "    df['Meta'] = base_risk\n",
    "\n",
    "META.append('Meta')"
   ]
  },
  {
   "cell_type": "code",
   "execution_count": 7,
   "id": "de20fbaf",
   "metadata": {
    "execution": {
     "iopub.execute_input": "2025-10-09T12:06:09.705884Z",
     "iopub.status.busy": "2025-10-09T12:06:09.705306Z",
     "iopub.status.idle": "2025-10-09T12:06:09.714553Z",
     "shell.execute_reply": "2025-10-09T12:06:09.713997Z"
    },
    "papermill": {
     "duration": 0.029416,
     "end_time": "2025-10-09T12:06:09.715584",
     "exception": false,
     "start_time": "2025-10-09T12:06:09.686168",
     "status": "completed"
    },
    "tags": []
   },
   "outputs": [],
   "source": [
    "train['orig_curvature'] = train['orig_curvature'].fillna(orig[TARGET].mean())\n",
    "test['orig_curvature'] = test['orig_curvature'].fillna(orig[TARGET].mean())"
   ]
  },
  {
   "cell_type": "code",
   "execution_count": 8,
   "id": "5129a092",
   "metadata": {
    "execution": {
     "iopub.execute_input": "2025-10-09T12:06:09.800967Z",
     "iopub.status.busy": "2025-10-09T12:06:09.800293Z",
     "iopub.status.idle": "2025-10-09T12:06:09.804395Z",
     "shell.execute_reply": "2025-10-09T12:06:09.803772Z"
    },
    "papermill": {
     "duration": 0.024659,
     "end_time": "2025-10-09T12:06:09.805429",
     "exception": false,
     "start_time": "2025-10-09T12:06:09.780770",
     "status": "completed"
    },
    "tags": []
   },
   "outputs": [
    {
     "name": "stdout",
     "output_type": "stream",
     "text": [
      "25 Features.\n"
     ]
    }
   ],
   "source": [
    "FEATURES = BASE + ORIG + META\n",
    "print(len(FEATURES), 'Features.')"
   ]
  },
  {
   "cell_type": "code",
   "execution_count": 9,
   "id": "231467b7",
   "metadata": {
    "execution": {
     "iopub.execute_input": "2025-10-09T12:06:09.843548Z",
     "iopub.status.busy": "2025-10-09T12:06:09.843311Z",
     "iopub.status.idle": "2025-10-09T12:06:09.885634Z",
     "shell.execute_reply": "2025-10-09T12:06:09.884840Z"
    },
    "papermill": {
     "duration": 0.063072,
     "end_time": "2025-10-09T12:06:09.887065",
     "exception": false,
     "start_time": "2025-10-09T12:06:09.823993",
     "status": "completed"
    },
    "tags": []
   },
   "outputs": [],
   "source": [
    "X = train[FEATURES]\n",
    "y = train[TARGET]\n",
    "X_test = test[FEATURES]"
   ]
  },
  {
   "cell_type": "code",
   "execution_count": 10,
   "id": "559305e7",
   "metadata": {
    "execution": {
     "iopub.execute_input": "2025-10-09T12:06:09.925837Z",
     "iopub.status.busy": "2025-10-09T12:06:09.925636Z",
     "iopub.status.idle": "2025-10-09T12:06:11.070483Z",
     "shell.execute_reply": "2025-10-09T12:06:11.069897Z"
    },
    "papermill": {
     "duration": 1.165652,
     "end_time": "2025-10-09T12:06:11.071842",
     "exception": false,
     "start_time": "2025-10-09T12:06:09.906190",
     "status": "completed"
    },
    "tags": []
   },
   "outputs": [],
   "source": [
    "from sklearn.model_selection import KFold\n",
    "\n",
    "N_SPLITS = 5\n",
    "kf = KFold(n_splits=N_SPLITS, shuffle=True, random_state=42)"
   ]
  },
  {
   "cell_type": "code",
   "execution_count": 11,
   "id": "00813f4d",
   "metadata": {
    "execution": {
     "iopub.execute_input": "2025-10-09T12:06:11.110871Z",
     "iopub.status.busy": "2025-10-09T12:06:11.110501Z",
     "iopub.status.idle": "2025-10-09T12:06:11.113930Z",
     "shell.execute_reply": "2025-10-09T12:06:11.113265Z"
    },
    "papermill": {
     "duration": 0.02403,
     "end_time": "2025-10-09T12:06:11.115053",
     "exception": false,
     "start_time": "2025-10-09T12:06:11.091023",
     "status": "completed"
    },
    "tags": []
   },
   "outputs": [],
   "source": [
    "# from pytabkit import RealMLP_HPO_Regressor\n",
    "\n",
    "# model = RealMLP_HPO_Regressor(n_cv=8,\n",
    "#                               n_epochs=64,\n",
    "#                               hpo_space_name='tabarena', \n",
    "#                               use_caruana_ensembling=False, \n",
    "#                               n_hyperopt_steps=30, \n",
    "#                               verbosity=2)\n",
    "# model.fit(X, y, cat_col_names=CATS)"
   ]
  },
  {
   "cell_type": "code",
   "execution_count": 12,
   "id": "e6128252",
   "metadata": {
    "execution": {
     "iopub.execute_input": "2025-10-09T12:06:11.154192Z",
     "iopub.status.busy": "2025-10-09T12:06:11.153343Z",
     "iopub.status.idle": "2025-10-09T12:06:24.395067Z",
     "shell.execute_reply": "2025-10-09T12:06:24.394254Z"
    },
    "papermill": {
     "duration": 13.262524,
     "end_time": "2025-10-09T12:06:24.396449",
     "exception": false,
     "start_time": "2025-10-09T12:06:11.133925",
     "status": "completed"
    },
    "tags": []
   },
   "outputs": [],
   "source": [
    "from pytabkit import RealMLP_TD_Regressor\n",
    "\n",
    "from sklearn.metrics import root_mean_squared_error\n",
    "from sklearn.preprocessing import StandardScaler"
   ]
  },
  {
   "cell_type": "code",
   "execution_count": 13,
   "id": "4aaf765d",
   "metadata": {
    "execution": {
     "iopub.execute_input": "2025-10-09T12:06:24.435996Z",
     "iopub.status.busy": "2025-10-09T12:06:24.435433Z",
     "iopub.status.idle": "2025-10-09T12:06:24.441131Z",
     "shell.execute_reply": "2025-10-09T12:06:24.440440Z"
    },
    "papermill": {
     "duration": 0.026298,
     "end_time": "2025-10-09T12:06:24.442238",
     "exception": false,
     "start_time": "2025-10-09T12:06:24.415940",
     "status": "completed"
    },
    "tags": []
   },
   "outputs": [],
   "source": [
    "params = {'n_epochs': 64,\n",
    "          'verbosity': 2,\n",
    "          'hidden_sizes': 'rectangular',\n",
    "          'max_one_hot_cat_size': 9,\n",
    "          'embedding_size': 8, \n",
    "          'weight_param': 'ntk', \n",
    "          'weight_init_mode': 'std',\n",
    "          'bias_init_mode': 'he+5',\n",
    "          'bias_lr_factor': 0.1,\n",
    "          'act': 'mish',\n",
    "          'use_parametric_act': True, \n",
    "          'act_lr_factor': 0.1,\n",
    "          'wd': 0.021237565639937887,\n",
    "          'wd_sched': 'flat_cos',\n",
    "          'bias_wd_factor': 0.0,\n",
    "          'block_str': 'w-b-a-d',\n",
    "          'p_drop': 0.11884235947908856,\n",
    "          'p_drop_sched': 'flat_cos',\n",
    "          'add_front_scale': True,\n",
    "          'scale_lr_factor': 2.199981685025475,\n",
    "          'tfms': ['one_hot', 'median_center', 'robust_scale', 'smooth_clip', 'embedding'],\n",
    "          'num_emb_type': 'pbld', \n",
    "          'plr_sigma': 29.684675895967988,\n",
    "          'plr_hidden_1': 16,\n",
    "          'plr_hidden_2': 64,\n",
    "          'plr_lr_factor': 0.21570704623708598,\n",
    "          'clamp_output': True,\n",
    "          'normalize_output': True, \n",
    "          'lr': 0.02722614375554257,\n",
    "          'lr_sched': 'coslog4',\n",
    "          'opt': 'adam',\n",
    "          'sq_mom': 0.9663775995449818,\n",
    "          'n_hidden_layers': 4,\n",
    "          'hidden_width': 512, \n",
    "          'first_layer_lr_factor': 0.6988631671008149,\n",
    "          'ls_eps_sched': 'coslog4',\n",
    "          'ls_eps': 0.011689238765538871,\n",
    "          'use_ls': True,\n",
    "          'use_early_stopping': True,\n",
    "          'early_stopping_multiplicative_patience': 3,\n",
    "          'early_stopping_additive_patience': 40,\n",
    "         }"
   ]
  },
  {
   "cell_type": "code",
   "execution_count": 14,
   "id": "cb7a36e8",
   "metadata": {
    "execution": {
     "iopub.execute_input": "2025-10-09T12:06:24.480576Z",
     "iopub.status.busy": "2025-10-09T12:06:24.480348Z",
     "iopub.status.idle": "2025-10-09T13:12:25.059705Z",
     "shell.execute_reply": "2025-10-09T13:12:25.058779Z"
    },
    "papermill": {
     "duration": 3960.600096,
     "end_time": "2025-10-09T13:12:25.061084",
     "exception": false,
     "start_time": "2025-10-09T12:06:24.460988",
     "status": "completed"
    },
    "tags": []
   },
   "outputs": [
    {
     "name": "stdout",
     "output_type": "stream",
     "text": [
      "--- Fold 1/5 ---\n",
      "Columns classified as continuous: ['num_lanes', 'curvature', 'speed_limit', 'num_reported_accidents', 'orig_road_type', 'orig_num_lanes', 'orig_curvature', 'orig_speed_limit', 'orig_lighting', 'orig_weather', 'orig_road_signs_present', 'orig_public_road', 'orig_time_of_day', 'orig_holiday', 'orig_school_season', 'orig_num_reported_accidents', 'Meta']\n",
      "Columns classified as categorical: ['road_type', 'lighting', 'weather', 'road_signs_present', 'public_road', 'time_of_day', 'holiday', 'school_season']\n",
      "Epoch 1/64: val rmse = 0.058039\n",
      "Epoch 2/64: val rmse = 0.057805\n",
      "Epoch 3/64: val rmse = 0.057671\n",
      "Epoch 4/64: val rmse = 0.056414\n",
      "Epoch 5/64: val rmse = 0.056598\n",
      "Epoch 6/64: val rmse = 0.057286\n",
      "Epoch 7/64: val rmse = 0.058162\n",
      "Epoch 8/64: val rmse = 0.059228\n",
      "Epoch 9/64: val rmse = 0.057221\n",
      "Epoch 10/64: val rmse = 0.057290\n",
      "Epoch 11/64: val rmse = 0.056924\n",
      "Epoch 12/64: val rmse = 0.056270\n",
      "Epoch 13/64: val rmse = 0.056211\n",
      "Epoch 14/64: val rmse = 0.056384\n",
      "Epoch 15/64: val rmse = 0.056572\n",
      "Epoch 16/64: val rmse = 0.057077\n",
      "Epoch 17/64: val rmse = 0.057469\n",
      "Epoch 18/64: val rmse = 0.056831\n",
      "Epoch 19/64: val rmse = 0.057405\n",
      "Epoch 20/64: val rmse = 0.056882\n",
      "Epoch 21/64: val rmse = 0.057539\n",
      "Epoch 22/64: val rmse = 0.058120\n",
      "Epoch 23/64: val rmse = 0.057895\n",
      "Epoch 24/64: val rmse = 0.057332\n",
      "Epoch 25/64: val rmse = 0.056600\n",
      "Epoch 26/64: val rmse = 0.056711\n",
      "Epoch 27/64: val rmse = 0.056399\n",
      "Epoch 28/64: val rmse = 0.056205\n",
      "Epoch 29/64: val rmse = 0.056132\n",
      "Epoch 30/64: val rmse = 0.056126\n",
      "Epoch 31/64: val rmse = 0.056130\n",
      "Epoch 32/64: val rmse = 0.056214\n",
      "Epoch 33/64: val rmse = 0.056344\n",
      "Epoch 34/64: val rmse = 0.056406\n",
      "Epoch 35/64: val rmse = 0.056380\n",
      "Epoch 36/64: val rmse = 0.056687\n",
      "Epoch 37/64: val rmse = 0.056975\n",
      "Epoch 38/64: val rmse = 0.057149\n",
      "Epoch 39/64: val rmse = 0.057838\n",
      "Epoch 40/64: val rmse = 0.056726\n",
      "Epoch 41/64: val rmse = 0.057286\n",
      "Epoch 42/64: val rmse = 0.056858\n",
      "Epoch 43/64: val rmse = 0.056846\n",
      "Epoch 44/64: val rmse = 0.057969\n",
      "Epoch 45/64: val rmse = 0.056964\n",
      "Epoch 46/64: val rmse = 0.056899\n",
      "Epoch 47/64: val rmse = 0.056728\n",
      "Epoch 48/64: val rmse = 0.056871\n",
      "Epoch 49/64: val rmse = 0.056975\n",
      "Epoch 50/64: val rmse = 0.056734\n",
      "Epoch 51/64: val rmse = 0.056540\n",
      "Epoch 52/64: val rmse = 0.056860\n",
      "Epoch 53/64: val rmse = 0.056588\n",
      "Epoch 54/64: val rmse = 0.056536\n",
      "Epoch 55/64: val rmse = 0.056600\n",
      "Epoch 56/64: val rmse = 0.056609\n",
      "Epoch 57/64: val rmse = 0.056758\n",
      "Epoch 58/64: val rmse = 0.057031\n",
      "Epoch 59/64: val rmse = 0.057569\n",
      "Epoch 60/64: val rmse = 0.058012\n",
      "Epoch 61/64: val rmse = 0.058829\n",
      "Epoch 62/64: val rmse = 0.059327\n",
      "Epoch 63/64: val rmse = 0.059636\n",
      "Epoch 64/64: val rmse = 0.059714\n",
      "Fold 1 RMSE: 0.05613\n",
      "--- Fold 2/5 ---\n",
      "Columns classified as continuous: ['num_lanes', 'curvature', 'speed_limit', 'num_reported_accidents', 'orig_road_type', 'orig_num_lanes', 'orig_curvature', 'orig_speed_limit', 'orig_lighting', 'orig_weather', 'orig_road_signs_present', 'orig_public_road', 'orig_time_of_day', 'orig_holiday', 'orig_school_season', 'orig_num_reported_accidents', 'Meta']\n",
      "Columns classified as categorical: ['road_type', 'lighting', 'weather', 'road_signs_present', 'public_road', 'time_of_day', 'holiday', 'school_season']\n",
      "Epoch 1/64: val rmse = 0.059711\n",
      "Epoch 2/64: val rmse = 0.058203\n",
      "Epoch 3/64: val rmse = 0.057018\n",
      "Epoch 4/64: val rmse = 0.056246\n",
      "Epoch 5/64: val rmse = 0.056527\n",
      "Epoch 6/64: val rmse = 0.057207\n",
      "Epoch 7/64: val rmse = 0.057659\n",
      "Epoch 8/64: val rmse = 0.057295\n",
      "Epoch 9/64: val rmse = 0.057588\n",
      "Epoch 10/64: val rmse = 0.056786\n",
      "Epoch 11/64: val rmse = 0.056796\n",
      "Epoch 12/64: val rmse = 0.056157\n",
      "Epoch 13/64: val rmse = 0.056094\n",
      "Epoch 14/64: val rmse = 0.056220\n",
      "Epoch 15/64: val rmse = 0.056871\n",
      "Epoch 16/64: val rmse = 0.057086\n",
      "Epoch 17/64: val rmse = 0.057935\n",
      "Epoch 18/64: val rmse = 0.058003\n",
      "Epoch 19/64: val rmse = 0.057252\n",
      "Epoch 20/64: val rmse = 0.057173\n",
      "Epoch 21/64: val rmse = 0.056713\n",
      "Epoch 22/64: val rmse = 0.056922\n",
      "Epoch 23/64: val rmse = 0.057633\n",
      "Epoch 24/64: val rmse = 0.057098\n",
      "Epoch 25/64: val rmse = 0.057194\n",
      "Epoch 26/64: val rmse = 0.056552\n",
      "Epoch 27/64: val rmse = 0.056390\n",
      "Epoch 28/64: val rmse = 0.056121\n",
      "Epoch 29/64: val rmse = 0.056042\n",
      "Epoch 30/64: val rmse = 0.056030\n",
      "Epoch 31/64: val rmse = 0.056045\n",
      "Epoch 32/64: val rmse = 0.056309\n",
      "Epoch 33/64: val rmse = 0.056361\n",
      "Epoch 34/64: val rmse = 0.056291\n",
      "Epoch 35/64: val rmse = 0.056454\n",
      "Epoch 36/64: val rmse = 0.056547\n",
      "Epoch 37/64: val rmse = 0.056938\n",
      "Epoch 38/64: val rmse = 0.057065\n",
      "Epoch 39/64: val rmse = 0.057340\n",
      "Epoch 40/64: val rmse = 0.056673\n",
      "Epoch 41/64: val rmse = 0.056775\n",
      "Epoch 42/64: val rmse = 0.057150\n",
      "Epoch 43/64: val rmse = 0.058113\n",
      "Epoch 44/64: val rmse = 0.058425\n",
      "Epoch 45/64: val rmse = 0.057085\n",
      "Epoch 46/64: val rmse = 0.057229\n",
      "Epoch 47/64: val rmse = 0.057294\n",
      "Epoch 48/64: val rmse = 0.056960\n",
      "Epoch 49/64: val rmse = 0.056894\n",
      "Epoch 50/64: val rmse = 0.056855\n",
      "Epoch 51/64: val rmse = 0.056507\n",
      "Epoch 52/64: val rmse = 0.056346\n",
      "Epoch 53/64: val rmse = 0.056376\n",
      "Epoch 54/64: val rmse = 0.056225\n",
      "Epoch 55/64: val rmse = 0.056392\n",
      "Epoch 56/64: val rmse = 0.056350\n",
      "Epoch 57/64: val rmse = 0.056174\n",
      "Epoch 58/64: val rmse = 0.056259\n",
      "Epoch 59/64: val rmse = 0.056226\n",
      "Epoch 60/64: val rmse = 0.056329\n",
      "Epoch 61/64: val rmse = 0.056421\n",
      "Epoch 62/64: val rmse = 0.056501\n",
      "Epoch 63/64: val rmse = 0.056538\n",
      "Epoch 64/64: val rmse = 0.056550\n",
      "Fold 2 RMSE: 0.05603\n",
      "--- Fold 3/5 ---\n",
      "Columns classified as continuous: ['num_lanes', 'curvature', 'speed_limit', 'num_reported_accidents', 'orig_road_type', 'orig_num_lanes', 'orig_curvature', 'orig_speed_limit', 'orig_lighting', 'orig_weather', 'orig_road_signs_present', 'orig_public_road', 'orig_time_of_day', 'orig_holiday', 'orig_school_season', 'orig_num_reported_accidents', 'Meta']\n",
      "Columns classified as categorical: ['road_type', 'lighting', 'weather', 'road_signs_present', 'public_road', 'time_of_day', 'holiday', 'school_season']\n",
      "Epoch 1/64: val rmse = 0.057900\n",
      "Epoch 2/64: val rmse = 0.058130\n",
      "Epoch 3/64: val rmse = 0.057147\n",
      "Epoch 4/64: val rmse = 0.056252\n",
      "Epoch 5/64: val rmse = 0.056421\n",
      "Epoch 6/64: val rmse = 0.057724\n",
      "Epoch 7/64: val rmse = 0.057630\n",
      "Epoch 8/64: val rmse = 0.058177\n",
      "Epoch 9/64: val rmse = 0.057260\n",
      "Epoch 10/64: val rmse = 0.056687\n",
      "Epoch 11/64: val rmse = 0.056523\n",
      "Epoch 12/64: val rmse = 0.056226\n",
      "Epoch 13/64: val rmse = 0.056102\n",
      "Epoch 14/64: val rmse = 0.056161\n",
      "Epoch 15/64: val rmse = 0.056414\n",
      "Epoch 16/64: val rmse = 0.056569\n",
      "Epoch 17/64: val rmse = 0.056552\n",
      "Epoch 18/64: val rmse = 0.057862\n",
      "Epoch 19/64: val rmse = 0.057644\n",
      "Epoch 20/64: val rmse = 0.057022\n",
      "Epoch 21/64: val rmse = 0.057762\n",
      "Epoch 22/64: val rmse = 0.056686\n",
      "Epoch 23/64: val rmse = 0.057180\n",
      "Epoch 24/64: val rmse = 0.056605\n",
      "Epoch 25/64: val rmse = 0.056524\n",
      "Epoch 26/64: val rmse = 0.056466\n",
      "Epoch 27/64: val rmse = 0.056171\n",
      "Epoch 28/64: val rmse = 0.056108\n",
      "Epoch 29/64: val rmse = 0.056068\n",
      "Epoch 30/64: val rmse = 0.056066\n",
      "Epoch 31/64: val rmse = 0.056079\n",
      "Epoch 32/64: val rmse = 0.056158\n",
      "Epoch 33/64: val rmse = 0.056258\n",
      "Epoch 34/64: val rmse = 0.056313\n",
      "Epoch 35/64: val rmse = 0.056550\n",
      "Epoch 36/64: val rmse = 0.056485\n",
      "Epoch 37/64: val rmse = 0.056562\n",
      "Epoch 38/64: val rmse = 0.056859\n",
      "Epoch 39/64: val rmse = 0.056761\n",
      "Epoch 40/64: val rmse = 0.057230\n",
      "Epoch 41/64: val rmse = 0.057152\n",
      "Epoch 42/64: val rmse = 0.058220\n",
      "Epoch 43/64: val rmse = 0.057956\n",
      "Epoch 44/64: val rmse = 0.057687\n",
      "Epoch 45/64: val rmse = 0.057180\n",
      "Epoch 46/64: val rmse = 0.057238\n",
      "Epoch 47/64: val rmse = 0.057031\n",
      "Epoch 48/64: val rmse = 0.056894\n",
      "Epoch 49/64: val rmse = 0.056516\n",
      "Epoch 50/64: val rmse = 0.056821\n",
      "Epoch 51/64: val rmse = 0.057027\n",
      "Epoch 52/64: val rmse = 0.056791\n",
      "Epoch 53/64: val rmse = 0.056387\n",
      "Epoch 54/64: val rmse = 0.056424\n",
      "Epoch 55/64: val rmse = 0.056500\n",
      "Epoch 56/64: val rmse = 0.056692\n",
      "Epoch 57/64: val rmse = 0.056790\n",
      "Epoch 58/64: val rmse = 0.057223\n",
      "Epoch 59/64: val rmse = 0.057819\n",
      "Epoch 60/64: val rmse = 0.058338\n",
      "Epoch 61/64: val rmse = 0.059048\n",
      "Epoch 62/64: val rmse = 0.059655\n",
      "Epoch 63/64: val rmse = 0.059935\n",
      "Epoch 64/64: val rmse = 0.060032\n",
      "Fold 3 RMSE: 0.05607\n",
      "--- Fold 4/5 ---\n",
      "Columns classified as continuous: ['num_lanes', 'curvature', 'speed_limit', 'num_reported_accidents', 'orig_road_type', 'orig_num_lanes', 'orig_curvature', 'orig_speed_limit', 'orig_lighting', 'orig_weather', 'orig_road_signs_present', 'orig_public_road', 'orig_time_of_day', 'orig_holiday', 'orig_school_season', 'orig_num_reported_accidents', 'Meta']\n",
      "Columns classified as categorical: ['road_type', 'lighting', 'weather', 'road_signs_present', 'public_road', 'time_of_day', 'holiday', 'school_season']\n",
      "Epoch 1/64: val rmse = 0.057322\n",
      "Epoch 2/64: val rmse = 0.058067\n",
      "Epoch 3/64: val rmse = 0.056856\n",
      "Epoch 4/64: val rmse = 0.056125\n",
      "Epoch 5/64: val rmse = 0.056285\n",
      "Epoch 6/64: val rmse = 0.056888\n",
      "Epoch 7/64: val rmse = 0.058534\n",
      "Epoch 8/64: val rmse = 0.057173\n",
      "Epoch 9/64: val rmse = 0.059622\n",
      "Epoch 10/64: val rmse = 0.056586\n",
      "Epoch 11/64: val rmse = 0.056551\n",
      "Epoch 12/64: val rmse = 0.056084\n",
      "Epoch 13/64: val rmse = 0.056013\n",
      "Epoch 14/64: val rmse = 0.056187\n",
      "Epoch 15/64: val rmse = 0.056374\n",
      "Epoch 16/64: val rmse = 0.057190\n",
      "Epoch 17/64: val rmse = 0.056969\n",
      "Epoch 18/64: val rmse = 0.057262\n",
      "Epoch 19/64: val rmse = 0.057318\n",
      "Epoch 20/64: val rmse = 0.057121\n",
      "Epoch 21/64: val rmse = 0.057089\n",
      "Epoch 22/64: val rmse = 0.057422\n",
      "Epoch 23/64: val rmse = 0.057940\n",
      "Epoch 24/64: val rmse = 0.056757\n",
      "Epoch 25/64: val rmse = 0.056826\n",
      "Epoch 26/64: val rmse = 0.056232\n",
      "Epoch 27/64: val rmse = 0.056260\n",
      "Epoch 28/64: val rmse = 0.056006\n",
      "Epoch 29/64: val rmse = 0.055934\n",
      "Epoch 30/64: val rmse = 0.055921\n",
      "Epoch 31/64: val rmse = 0.055959\n",
      "Epoch 32/64: val rmse = 0.056123\n",
      "Epoch 33/64: val rmse = 0.056482\n",
      "Epoch 34/64: val rmse = 0.056189\n",
      "Epoch 35/64: val rmse = 0.056649\n",
      "Epoch 36/64: val rmse = 0.056597\n",
      "Epoch 37/64: val rmse = 0.057392\n",
      "Epoch 38/64: val rmse = 0.057342\n",
      "Epoch 39/64: val rmse = 0.056672\n",
      "Epoch 40/64: val rmse = 0.057440\n",
      "Epoch 41/64: val rmse = 0.057541\n",
      "Epoch 42/64: val rmse = 0.056984\n",
      "Epoch 43/64: val rmse = 0.057725\n",
      "Epoch 44/64: val rmse = 0.056764\n",
      "Epoch 45/64: val rmse = 0.056843\n",
      "Epoch 46/64: val rmse = 0.056600\n",
      "Epoch 47/64: val rmse = 0.057114\n",
      "Epoch 48/64: val rmse = 0.056551\n",
      "Epoch 49/64: val rmse = 0.056650\n",
      "Epoch 50/64: val rmse = 0.056437\n",
      "Epoch 51/64: val rmse = 0.056379\n",
      "Epoch 52/64: val rmse = 0.056362\n",
      "Epoch 53/64: val rmse = 0.056239\n",
      "Epoch 54/64: val rmse = 0.056136\n",
      "Epoch 55/64: val rmse = 0.056368\n",
      "Epoch 56/64: val rmse = 0.056322\n",
      "Epoch 57/64: val rmse = 0.056236\n",
      "Epoch 58/64: val rmse = 0.056124\n",
      "Epoch 59/64: val rmse = 0.056284\n",
      "Epoch 60/64: val rmse = 0.056480\n",
      "Epoch 61/64: val rmse = 0.056627\n",
      "Epoch 62/64: val rmse = 0.056720\n",
      "Epoch 63/64: val rmse = 0.056820\n",
      "Epoch 64/64: val rmse = 0.056834\n",
      "Fold 4 RMSE: 0.05592\n",
      "--- Fold 5/5 ---\n",
      "Columns classified as continuous: ['num_lanes', 'curvature', 'speed_limit', 'num_reported_accidents', 'orig_road_type', 'orig_num_lanes', 'orig_curvature', 'orig_speed_limit', 'orig_lighting', 'orig_weather', 'orig_road_signs_present', 'orig_public_road', 'orig_time_of_day', 'orig_holiday', 'orig_school_season', 'orig_num_reported_accidents', 'Meta']\n",
      "Columns classified as categorical: ['road_type', 'lighting', 'weather', 'road_signs_present', 'public_road', 'time_of_day', 'holiday', 'school_season']\n",
      "Epoch 1/64: val rmse = 0.058227\n",
      "Epoch 2/64: val rmse = 0.062039\n",
      "Epoch 3/64: val rmse = 0.056715\n",
      "Epoch 4/64: val rmse = 0.056138\n",
      "Epoch 5/64: val rmse = 0.056456\n",
      "Epoch 6/64: val rmse = 0.057076\n",
      "Epoch 7/64: val rmse = 0.056821\n",
      "Epoch 8/64: val rmse = 0.058448\n",
      "Epoch 9/64: val rmse = 0.056665\n",
      "Epoch 10/64: val rmse = 0.056638\n",
      "Epoch 11/64: val rmse = 0.056387\n",
      "Epoch 12/64: val rmse = 0.056051\n",
      "Epoch 13/64: val rmse = 0.055971\n",
      "Epoch 14/64: val rmse = 0.056214\n",
      "Epoch 15/64: val rmse = 0.056288\n",
      "Epoch 16/64: val rmse = 0.056910\n",
      "Epoch 17/64: val rmse = 0.056790\n",
      "Epoch 18/64: val rmse = 0.057019\n",
      "Epoch 19/64: val rmse = 0.057211\n",
      "Epoch 20/64: val rmse = 0.058797\n",
      "Epoch 21/64: val rmse = 0.058208\n",
      "Epoch 22/64: val rmse = 0.057570\n",
      "Epoch 23/64: val rmse = 0.057246\n",
      "Epoch 24/64: val rmse = 0.056823\n",
      "Epoch 25/64: val rmse = 0.056529\n",
      "Epoch 26/64: val rmse = 0.056657\n",
      "Epoch 27/64: val rmse = 0.056201\n",
      "Epoch 28/64: val rmse = 0.055912\n",
      "Epoch 29/64: val rmse = 0.055834\n",
      "Epoch 30/64: val rmse = 0.055823\n",
      "Epoch 31/64: val rmse = 0.055852\n",
      "Epoch 32/64: val rmse = 0.055896\n",
      "Epoch 33/64: val rmse = 0.056073\n",
      "Epoch 34/64: val rmse = 0.056319\n",
      "Epoch 35/64: val rmse = 0.056387\n",
      "Epoch 36/64: val rmse = 0.056838\n",
      "Epoch 37/64: val rmse = 0.056804\n",
      "Epoch 38/64: val rmse = 0.058391\n",
      "Epoch 39/64: val rmse = 0.056979\n",
      "Epoch 40/64: val rmse = 0.056988\n",
      "Epoch 41/64: val rmse = 0.056470\n",
      "Epoch 42/64: val rmse = 0.056817\n",
      "Epoch 43/64: val rmse = 0.056780\n",
      "Epoch 44/64: val rmse = 0.056903\n",
      "Epoch 45/64: val rmse = 0.056336\n",
      "Epoch 46/64: val rmse = 0.056856\n",
      "Epoch 47/64: val rmse = 0.056913\n",
      "Epoch 48/64: val rmse = 0.056448\n",
      "Epoch 49/64: val rmse = 0.056964\n",
      "Epoch 50/64: val rmse = 0.056267\n",
      "Epoch 51/64: val rmse = 0.056698\n",
      "Epoch 52/64: val rmse = 0.056430\n",
      "Epoch 53/64: val rmse = 0.056500\n",
      "Epoch 54/64: val rmse = 0.056139\n",
      "Epoch 55/64: val rmse = 0.056440\n",
      "Epoch 56/64: val rmse = 0.056112\n",
      "Epoch 57/64: val rmse = 0.056292\n",
      "Epoch 58/64: val rmse = 0.056549\n",
      "Epoch 59/64: val rmse = 0.056905\n",
      "Epoch 60/64: val rmse = 0.057412\n",
      "Epoch 61/64: val rmse = 0.057951\n",
      "Epoch 62/64: val rmse = 0.058357\n",
      "Epoch 63/64: val rmse = 0.058670\n",
      "Epoch 64/64: val rmse = 0.058718\n",
      "Fold 5 RMSE: 0.05582\n",
      "Overall OOF RMSE: 0.05599\n"
     ]
    }
   ],
   "source": [
    "oof_preds = np.zeros(len(X))\n",
    "test_preds = np.zeros(len(test))\n",
    "\n",
    "for fold, (train_idx, val_idx) in enumerate(kf.split(X, y)):\n",
    "    print(f'--- Fold {fold+1}/{N_SPLITS} ---')\n",
    "    \n",
    "    X_train, X_val = X.iloc[train_idx], X.iloc[val_idx]\n",
    "    y_train, y_val = y.iloc[train_idx], y.iloc[val_idx]\n",
    "\n",
    "    model = RealMLP_TD_Regressor(**params)\n",
    "    \n",
    "    model.fit(X_train, y_train, X_val, y_val, cat_col_names=CATS)\n",
    "    \n",
    "    oof_preds[val_idx] = model.predict(X_val)\n",
    "    test_preds += model.predict(X_test)\n",
    "\n",
    "    print(f\"Fold {fold+1} RMSE: {root_mean_squared_error(y_val, oof_preds[val_idx]):.5f}\")\n",
    "\n",
    "test_preds /= N_SPLITS\n",
    "\n",
    "print(f\"Overall OOF RMSE: {root_mean_squared_error(y, oof_preds):.5f}\")"
   ]
  },
  {
   "cell_type": "code",
   "execution_count": 15,
   "id": "9dddbe52",
   "metadata": {
    "execution": {
     "iopub.execute_input": "2025-10-09T13:12:25.129199Z",
     "iopub.status.busy": "2025-10-09T13:12:25.128966Z",
     "iopub.status.idle": "2025-10-09T13:12:26.388240Z",
     "shell.execute_reply": "2025-10-09T13:12:26.387665Z"
    },
    "papermill": {
     "duration": 1.294147,
     "end_time": "2025-10-09T13:12:26.389615",
     "exception": false,
     "start_time": "2025-10-09T13:12:25.095468",
     "status": "completed"
    },
    "tags": []
   },
   "outputs": [],
   "source": [
    "pd.DataFrame({'id': train.id, TARGET: oof_preds}).to_csv('oof_realmlp_plus_origcol.csv', index=False)\n",
    "pd.DataFrame({'id': test.id, TARGET: test_preds}).to_csv('test_realmlp_plus_origcol.csv', index=False)"
   ]
  }
 ],
 "metadata": {
  "kaggle": {
   "accelerator": "gpu",
   "dataSources": [
    {
     "databundleVersionId": 13760552,
     "sourceId": 91721,
     "sourceType": "competition"
    },
    {
     "datasetId": 7797612,
     "sourceId": 12367739,
     "sourceType": "datasetVersion"
    }
   ],
   "dockerImageVersionId": 31090,
   "isGpuEnabled": true,
   "isInternetEnabled": true,
   "language": "python",
   "sourceType": "notebook"
  },
  "kernelspec": {
   "display_name": "Python 3",
   "language": "python",
   "name": "python3"
  },
  "language_info": {
   "codemirror_mode": {
    "name": "ipython",
    "version": 3
   },
   "file_extension": ".py",
   "mimetype": "text/x-python",
   "name": "python",
   "nbconvert_exporter": "python",
   "pygments_lexer": "ipython3",
   "version": "3.11.13"
  },
  "papermill": {
   "default_parameters": {},
   "duration": 4064.575148,
   "end_time": "2025-10-09T13:12:28.146169",
   "environment_variables": {},
   "exception": null,
   "input_path": "__notebook__.ipynb",
   "output_path": "__notebook__.ipynb",
   "parameters": {},
   "start_time": "2025-10-09T12:04:43.571021",
   "version": "2.6.0"
  }
 },
 "nbformat": 4,
 "nbformat_minor": 5
}
