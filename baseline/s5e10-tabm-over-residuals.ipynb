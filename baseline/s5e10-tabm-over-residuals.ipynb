{
 "cells": [
  {
   "cell_type": "markdown",
   "id": "f2ee79c3",
   "metadata": {
    "papermill": {
     "duration": 0.003442,
     "end_time": "2025-10-12T00:46:44.478726",
     "exception": false,
     "start_time": "2025-10-12T00:46:44.475284",
     "status": "completed"
    },
    "tags": []
   },
   "source": [
    "# Introduction\n",
    "\n",
    "This notebook is heavily based on the excellent work by Chris Deotte in his notebook, \"[XGB Boosting over Residuals, CV 0.05595](https://www.kaggle.com/code/cdeotte/xgb-boosting-over-residuals-cv-0-05595)\". I would like to express my sincere gratitude for his insightful contribution.\n",
    "\n",
    "The primary modification in this version is the replacement of the XGBoost model with TabM. Additionally, this notebook explores the change in accuracy when switching from the `tabm-mini` model to the full `tabm` model."
   ]
  },
  {
   "cell_type": "code",
   "execution_count": 1,
   "id": "bd5cd716",
   "metadata": {
    "execution": {
     "iopub.execute_input": "2025-10-12T00:46:44.485402Z",
     "iopub.status.busy": "2025-10-12T00:46:44.484881Z",
     "iopub.status.idle": "2025-10-12T00:48:06.544874Z",
     "shell.execute_reply": "2025-10-12T00:48:06.543928Z"
    },
    "papermill": {
     "duration": 82.064802,
     "end_time": "2025-10-12T00:48:06.546413",
     "exception": false,
     "start_time": "2025-10-12T00:46:44.481611",
     "status": "completed"
    },
    "tags": []
   },
   "outputs": [
    {
     "name": "stdout",
     "output_type": "stream",
     "text": [
      "\u001b[2K   \u001b[90m━━━━━━━━━━━━━━━━━━━━━━━━━━━━━━━━━━━━━━━━\u001b[0m \u001b[32m352.2/352.2 kB\u001b[0m \u001b[31m14.9 MB/s\u001b[0m eta \u001b[36m0:00:00\u001b[0m\r\n",
      "\u001b[2K   \u001b[90m━━━━━━━━━━━━━━━━━━━━━━━━━━━━━━━━━━━━━━━━\u001b[0m \u001b[32m9.7/9.7 MB\u001b[0m \u001b[31m112.4 MB/s\u001b[0m eta \u001b[36m0:00:00\u001b[0m\r\n",
      "\u001b[2K   \u001b[90m━━━━━━━━━━━━━━━━━━━━━━━━━━━━━━━━━━━━━━━━\u001b[0m \u001b[32m363.4/363.4 MB\u001b[0m \u001b[31m4.8 MB/s\u001b[0m eta \u001b[36m0:00:00\u001b[0m\r\n",
      "\u001b[2K   \u001b[90m━━━━━━━━━━━━━━━━━━━━━━━━━━━━━━━━━━━━━━━━\u001b[0m \u001b[32m13.8/13.8 MB\u001b[0m \u001b[31m95.4 MB/s\u001b[0m eta \u001b[36m0:00:00\u001b[0m\r\n",
      "\u001b[2K   \u001b[90m━━━━━━━━━━━━━━━━━━━━━━━━━━━━━━━━━━━━━━━━\u001b[0m \u001b[32m24.6/24.6 MB\u001b[0m \u001b[31m68.2 MB/s\u001b[0m eta \u001b[36m0:00:00\u001b[0m\r\n",
      "\u001b[2K   \u001b[90m━━━━━━━━━━━━━━━━━━━━━━━━━━━━━━━━━━━━━━━━\u001b[0m \u001b[32m883.7/883.7 kB\u001b[0m \u001b[31m43.4 MB/s\u001b[0m eta \u001b[36m0:00:00\u001b[0m\r\n",
      "\u001b[2K   \u001b[90m━━━━━━━━━━━━━━━━━━━━━━━━━━━━━━━━━━━━━━━━\u001b[0m \u001b[32m664.8/664.8 MB\u001b[0m \u001b[31m2.6 MB/s\u001b[0m eta \u001b[36m0:00:00\u001b[0m\r\n",
      "\u001b[2K   \u001b[90m━━━━━━━━━━━━━━━━━━━━━━━━━━━━━━━━━━━━━━━━\u001b[0m \u001b[32m211.5/211.5 MB\u001b[0m \u001b[31m5.8 MB/s\u001b[0m eta \u001b[36m0:00:00\u001b[0m\r\n",
      "\u001b[2K   \u001b[90m━━━━━━━━━━━━━━━━━━━━━━━━━━━━━━━━━━━━━━━━\u001b[0m \u001b[32m56.3/56.3 MB\u001b[0m \u001b[31m27.8 MB/s\u001b[0m eta \u001b[36m0:00:00\u001b[0m\r\n",
      "\u001b[2K   \u001b[90m━━━━━━━━━━━━━━━━━━━━━━━━━━━━━━━━━━━━━━━━\u001b[0m \u001b[32m127.9/127.9 MB\u001b[0m \u001b[31m9.0 MB/s\u001b[0m eta \u001b[36m0:00:00\u001b[0m\r\n",
      "\u001b[2K   \u001b[90m━━━━━━━━━━━━━━━━━━━━━━━━━━━━━━━━━━━━━━━━\u001b[0m \u001b[32m207.5/207.5 MB\u001b[0m \u001b[31m2.2 MB/s\u001b[0m eta \u001b[36m0:00:00\u001b[0m\r\n",
      "\u001b[2K   \u001b[90m━━━━━━━━━━━━━━━━━━━━━━━━━━━━━━━━━━━━━━━━\u001b[0m \u001b[32m21.1/21.1 MB\u001b[0m \u001b[31m89.1 MB/s\u001b[0m eta \u001b[36m0:00:00\u001b[0m\r\n",
      "\u001b[?25h\u001b[31mERROR: pip's dependency resolver does not currently take into account all the packages that are installed. This behaviour is the source of the following dependency conflicts.\r\n",
      "category-encoders 2.7.0 requires scikit-learn<1.6.0,>=1.0.0, but you have scikit-learn 1.7.2 which is incompatible.\r\n",
      "cesium 0.12.4 requires numpy<3.0,>=2.0, but you have numpy 1.26.4 which is incompatible.\r\n",
      "sklearn-compat 0.1.3 requires scikit-learn<1.7,>=1.2, but you have scikit-learn 1.7.2 which is incompatible.\u001b[0m\u001b[31m\r\n",
      "\u001b[0m"
     ]
    }
   ],
   "source": [
    "!pip install -qq pytabkit"
   ]
  },
  {
   "cell_type": "code",
   "execution_count": 2,
   "id": "fa279b01",
   "metadata": {
    "_cell_guid": "b1076dfc-b9ad-4769-8c92-a6c4dae69d19",
    "_uuid": "8f2839f25d086af736a60e9eeb907d3b93b6e0e5",
    "execution": {
     "iopub.execute_input": "2025-10-12T00:48:06.592279Z",
     "iopub.status.busy": "2025-10-12T00:48:06.592021Z",
     "iopub.status.idle": "2025-10-12T00:48:06.595886Z",
     "shell.execute_reply": "2025-10-12T00:48:06.595190Z"
    },
    "papermill": {
     "duration": 0.028105,
     "end_time": "2025-10-12T00:48:06.597062",
     "exception": false,
     "start_time": "2025-10-12T00:48:06.568957",
     "status": "completed"
    },
    "tags": []
   },
   "outputs": [],
   "source": [
    "import warnings\n",
    "warnings.simplefilter('ignore')"
   ]
  },
  {
   "cell_type": "code",
   "execution_count": 3,
   "id": "1fc7b702",
   "metadata": {
    "execution": {
     "iopub.execute_input": "2025-10-12T00:48:06.641759Z",
     "iopub.status.busy": "2025-10-12T00:48:06.641546Z",
     "iopub.status.idle": "2025-10-12T00:48:09.422611Z",
     "shell.execute_reply": "2025-10-12T00:48:09.421885Z"
    },
    "papermill": {
     "duration": 2.804481,
     "end_time": "2025-10-12T00:48:09.423861",
     "exception": false,
     "start_time": "2025-10-12T00:48:06.619380",
     "status": "completed"
    },
    "tags": []
   },
   "outputs": [
    {
     "name": "stdout",
     "output_type": "stream",
     "text": [
      "Train Shape: (517754, 14)\n",
      "Test Shape: (172585, 13)\n",
      "Orig Shape: (112000, 13)\n"
     ]
    },
    {
     "data": {
      "text/html": [
       "<div>\n",
       "<style scoped>\n",
       "    .dataframe tbody tr th:only-of-type {\n",
       "        vertical-align: middle;\n",
       "    }\n",
       "\n",
       "    .dataframe tbody tr th {\n",
       "        vertical-align: top;\n",
       "    }\n",
       "\n",
       "    .dataframe thead th {\n",
       "        text-align: right;\n",
       "    }\n",
       "</style>\n",
       "<table border=\"1\" class=\"dataframe\">\n",
       "  <thead>\n",
       "    <tr style=\"text-align: right;\">\n",
       "      <th></th>\n",
       "      <th>id</th>\n",
       "      <th>road_type</th>\n",
       "      <th>num_lanes</th>\n",
       "      <th>curvature</th>\n",
       "      <th>speed_limit</th>\n",
       "      <th>lighting</th>\n",
       "      <th>weather</th>\n",
       "      <th>road_signs_present</th>\n",
       "      <th>public_road</th>\n",
       "      <th>time_of_day</th>\n",
       "      <th>holiday</th>\n",
       "      <th>school_season</th>\n",
       "      <th>num_reported_accidents</th>\n",
       "      <th>accident_risk</th>\n",
       "    </tr>\n",
       "  </thead>\n",
       "  <tbody>\n",
       "    <tr>\n",
       "      <th>0</th>\n",
       "      <td>0</td>\n",
       "      <td>urban</td>\n",
       "      <td>2</td>\n",
       "      <td>0.06</td>\n",
       "      <td>35</td>\n",
       "      <td>daylight</td>\n",
       "      <td>rainy</td>\n",
       "      <td>False</td>\n",
       "      <td>True</td>\n",
       "      <td>afternoon</td>\n",
       "      <td>False</td>\n",
       "      <td>True</td>\n",
       "      <td>1</td>\n",
       "      <td>0.13</td>\n",
       "    </tr>\n",
       "    <tr>\n",
       "      <th>1</th>\n",
       "      <td>1</td>\n",
       "      <td>urban</td>\n",
       "      <td>4</td>\n",
       "      <td>0.99</td>\n",
       "      <td>35</td>\n",
       "      <td>daylight</td>\n",
       "      <td>clear</td>\n",
       "      <td>True</td>\n",
       "      <td>False</td>\n",
       "      <td>evening</td>\n",
       "      <td>True</td>\n",
       "      <td>True</td>\n",
       "      <td>0</td>\n",
       "      <td>0.35</td>\n",
       "    </tr>\n",
       "    <tr>\n",
       "      <th>2</th>\n",
       "      <td>2</td>\n",
       "      <td>rural</td>\n",
       "      <td>4</td>\n",
       "      <td>0.63</td>\n",
       "      <td>70</td>\n",
       "      <td>dim</td>\n",
       "      <td>clear</td>\n",
       "      <td>False</td>\n",
       "      <td>True</td>\n",
       "      <td>morning</td>\n",
       "      <td>True</td>\n",
       "      <td>False</td>\n",
       "      <td>2</td>\n",
       "      <td>0.30</td>\n",
       "    </tr>\n",
       "  </tbody>\n",
       "</table>\n",
       "</div>"
      ],
      "text/plain": [
       "   id road_type  num_lanes  curvature  speed_limit  lighting weather  \\\n",
       "0   0     urban          2       0.06           35  daylight   rainy   \n",
       "1   1     urban          4       0.99           35  daylight   clear   \n",
       "2   2     rural          4       0.63           70       dim   clear   \n",
       "\n",
       "   road_signs_present  public_road time_of_day  holiday  school_season  \\\n",
       "0               False         True   afternoon    False           True   \n",
       "1                True        False     evening     True           True   \n",
       "2               False         True     morning     True          False   \n",
       "\n",
       "   num_reported_accidents  accident_risk  \n",
       "0                       1           0.13  \n",
       "1                       0           0.35  \n",
       "2                       2           0.30  "
      ]
     },
     "execution_count": 3,
     "metadata": {},
     "output_type": "execute_result"
    }
   ],
   "source": [
    "import pandas as pd, numpy as np\n",
    "\n",
    "train = pd.read_csv('/kaggle/input/playground-series-s5e10/train.csv')\n",
    "test = pd.read_csv('/kaggle/input/playground-series-s5e10/test.csv')\n",
    "orig = pd.read_csv('/kaggle/input/simulated-roads-accident-data/synthetic_road_accidents_100k.csv')\n",
    "orig_2 = pd.read_csv('/kaggle/input/simulated-roads-accident-data/synthetic_road_accidents_10k.csv')\n",
    "orig_3 = pd.read_csv('/kaggle/input/simulated-roads-accident-data/synthetic_road_accidents_2k.csv')\n",
    "orig = pd.concat([orig, orig_2, orig_3])\n",
    "\n",
    "print('Train Shape:', train.shape)\n",
    "print('Test Shape:', test.shape)\n",
    "print('Orig Shape:', orig.shape)\n",
    "\n",
    "train.head(3)"
   ]
  },
  {
   "cell_type": "code",
   "execution_count": 4,
   "id": "bd2226ac",
   "metadata": {
    "execution": {
     "iopub.execute_input": "2025-10-12T00:48:09.469800Z",
     "iopub.status.busy": "2025-10-12T00:48:09.469568Z",
     "iopub.status.idle": "2025-10-12T00:48:09.473961Z",
     "shell.execute_reply": "2025-10-12T00:48:09.473260Z"
    },
    "papermill": {
     "duration": 0.02781,
     "end_time": "2025-10-12T00:48:09.474955",
     "exception": false,
     "start_time": "2025-10-12T00:48:09.447145",
     "status": "completed"
    },
    "tags": []
   },
   "outputs": [
    {
     "name": "stdout",
     "output_type": "stream",
     "text": [
      "12 Base Features:['road_type', 'num_lanes', 'curvature', 'speed_limit', 'lighting', 'weather', 'road_signs_present', 'public_road', 'time_of_day', 'holiday', 'school_season', 'num_reported_accidents']\n"
     ]
    }
   ],
   "source": [
    "TARGET = 'accident_risk'\n",
    "BASE = [col for col in train.columns if col not in ['id', TARGET]]\n",
    "CATS = ['road_type', 'lighting', 'weather', 'road_signs_present', 'public_road', 'time_of_day', 'holiday', 'school_season']\n",
    "\n",
    "print(f'{len(BASE)} Base Features:{BASE}')"
   ]
  },
  {
   "cell_type": "code",
   "execution_count": 5,
   "id": "2bc6b009",
   "metadata": {
    "execution": {
     "iopub.execute_input": "2025-10-12T00:48:09.519561Z",
     "iopub.status.busy": "2025-10-12T00:48:09.519328Z",
     "iopub.status.idle": "2025-10-12T00:48:10.844405Z",
     "shell.execute_reply": "2025-10-12T00:48:10.843646Z"
    },
    "papermill": {
     "duration": 1.348827,
     "end_time": "2025-10-12T00:48:10.845727",
     "exception": false,
     "start_time": "2025-10-12T00:48:09.496900",
     "status": "completed"
    },
    "tags": []
   },
   "outputs": [
    {
     "name": "stdout",
     "output_type": "stream",
     "text": [
      "12 Orig Features Created!!\n"
     ]
    }
   ],
   "source": [
    "ORIG = []\n",
    "\n",
    "for col in BASE:\n",
    "    tmp = orig.groupby(col)[TARGET].mean()\n",
    "    new_col_name = f\"orig_{col}\"\n",
    "    tmp.name = new_col_name\n",
    "    train = train.merge(tmp, on=col, how='left')\n",
    "    test = test.merge(tmp, on=col, how='left')\n",
    "    ORIG.append(new_col_name)\n",
    "\n",
    "print(len(ORIG), 'Orig Features Created!!')"
   ]
  },
  {
   "cell_type": "code",
   "execution_count": 6,
   "id": "ec35a106",
   "metadata": {
    "execution": {
     "iopub.execute_input": "2025-10-12T00:48:10.892856Z",
     "iopub.status.busy": "2025-10-12T00:48:10.892639Z",
     "iopub.status.idle": "2025-10-12T00:48:12.293158Z",
     "shell.execute_reply": "2025-10-12T00:48:12.292378Z"
    },
    "papermill": {
     "duration": 1.425269,
     "end_time": "2025-10-12T00:48:12.294800",
     "exception": false,
     "start_time": "2025-10-12T00:48:10.869531",
     "status": "completed"
    },
    "tags": []
   },
   "outputs": [],
   "source": [
    "from scipy.stats import norm\n",
    "\n",
    "def f(X):\n",
    "    return \\\n",
    "    0.3 * X[\"curvature\"] + \\\n",
    "    0.2 * (X[\"lighting\"] == \"night\").astype(int) + \\\n",
    "    0.1 * (X[\"weather\"] != \"clear\").astype(int) + \\\n",
    "    0.2 * (X[\"speed_limit\"] >= 60).astype(int) + \\\n",
    "    0.1 * (X[\"num_reported_accidents\"] > 2).astype(int)\n",
    "\n",
    "def clip(f):\n",
    "    def clip_f(X):\n",
    "        sigma = 0.05\n",
    "        mu = f(X)\n",
    "        a = -mu / sigma\n",
    "        b = (1 - mu) / sigma\n",
    "        \n",
    "        Phi_a = norm.cdf(a)\n",
    "        Phi_b = norm.cdf(b)\n",
    "        phi_a = norm.pdf(a)\n",
    "        phi_b = norm.pdf(b)\n",
    "        \n",
    "        return mu * (Phi_b - Phi_a) + sigma * (phi_a - phi_b) + 1 - Phi_b\n",
    "        \n",
    "    return clip_f\n",
    "\n",
    "clipped_f = clip(f)\n",
    "train['y'] = clipped_f(train)\n",
    "test['y'] = clipped_f(test)\n",
    "orig['y'] = clipped_f(orig)"
   ]
  },
  {
   "cell_type": "code",
   "execution_count": 7,
   "id": "0d2f690e",
   "metadata": {
    "execution": {
     "iopub.execute_input": "2025-10-12T00:48:12.391786Z",
     "iopub.status.busy": "2025-10-12T00:48:12.390891Z",
     "iopub.status.idle": "2025-10-12T00:48:12.401881Z",
     "shell.execute_reply": "2025-10-12T00:48:12.401092Z"
    },
    "papermill": {
     "duration": 0.035736,
     "end_time": "2025-10-12T00:48:12.403049",
     "exception": false,
     "start_time": "2025-10-12T00:48:12.367313",
     "status": "completed"
    },
    "tags": []
   },
   "outputs": [],
   "source": [
    "train['orig_curvature'] = train['orig_curvature'].fillna(orig[TARGET].mean())\n",
    "test['orig_curvature'] = test['orig_curvature'].fillna(orig[TARGET].mean())"
   ]
  },
  {
   "cell_type": "code",
   "execution_count": 8,
   "id": "7a1295d8",
   "metadata": {
    "execution": {
     "iopub.execute_input": "2025-10-12T00:48:12.448789Z",
     "iopub.status.busy": "2025-10-12T00:48:12.448346Z",
     "iopub.status.idle": "2025-10-12T00:48:12.452414Z",
     "shell.execute_reply": "2025-10-12T00:48:12.451755Z"
    },
    "papermill": {
     "duration": 0.028175,
     "end_time": "2025-10-12T00:48:12.453537",
     "exception": false,
     "start_time": "2025-10-12T00:48:12.425362",
     "status": "completed"
    },
    "tags": []
   },
   "outputs": [
    {
     "name": "stdout",
     "output_type": "stream",
     "text": [
      "25 Features.\n"
     ]
    }
   ],
   "source": [
    "FEATURES = BASE + ORIG + ['y']\n",
    "print(len(FEATURES), 'Features.')"
   ]
  },
  {
   "cell_type": "code",
   "execution_count": 9,
   "id": "963ce982",
   "metadata": {
    "execution": {
     "iopub.execute_input": "2025-10-12T00:48:12.499527Z",
     "iopub.status.busy": "2025-10-12T00:48:12.498899Z",
     "iopub.status.idle": "2025-10-12T00:48:12.564295Z",
     "shell.execute_reply": "2025-10-12T00:48:12.563501Z"
    },
    "papermill": {
     "duration": 0.090102,
     "end_time": "2025-10-12T00:48:12.566008",
     "exception": false,
     "start_time": "2025-10-12T00:48:12.475906",
     "status": "completed"
    },
    "tags": []
   },
   "outputs": [],
   "source": [
    "X = train[FEATURES]\n",
    "y = train[TARGET] - train['y']\n",
    "X_test = test[FEATURES]"
   ]
  },
  {
   "cell_type": "code",
   "execution_count": 10,
   "id": "5132e684",
   "metadata": {
    "execution": {
     "iopub.execute_input": "2025-10-12T00:48:12.613460Z",
     "iopub.status.busy": "2025-10-12T00:48:12.613209Z",
     "iopub.status.idle": "2025-10-12T00:48:12.746687Z",
     "shell.execute_reply": "2025-10-12T00:48:12.746077Z"
    },
    "papermill": {
     "duration": 0.158004,
     "end_time": "2025-10-12T00:48:12.748093",
     "exception": false,
     "start_time": "2025-10-12T00:48:12.590089",
     "status": "completed"
    },
    "tags": []
   },
   "outputs": [],
   "source": [
    "from sklearn.model_selection import KFold\n",
    "\n",
    "N_SPLITS = 5\n",
    "kf = KFold(n_splits=N_SPLITS, shuffle=True, random_state=42)"
   ]
  },
  {
   "cell_type": "code",
   "execution_count": 11,
   "id": "fea0cc64",
   "metadata": {
    "_kg_hide-output": true,
    "execution": {
     "iopub.execute_input": "2025-10-12T00:48:12.794877Z",
     "iopub.status.busy": "2025-10-12T00:48:12.794587Z",
     "iopub.status.idle": "2025-10-12T00:48:12.797721Z",
     "shell.execute_reply": "2025-10-12T00:48:12.797191Z"
    },
    "papermill": {
     "duration": 0.027335,
     "end_time": "2025-10-12T00:48:12.798766",
     "exception": false,
     "start_time": "2025-10-12T00:48:12.771431",
     "status": "completed"
    },
    "tags": []
   },
   "outputs": [],
   "source": [
    "# from pytabkit import TabM_HPO_Regressor\n",
    "\n",
    "# model = TabM_HPO_Regressor(\n",
    "#         n_cv=8,\n",
    "#         hpo_space_name='tabarena',\n",
    "#         use_caruana_ensembling=True,\n",
    "#         n_hyperopt_steps=50\n",
    "#         )\n",
    "    \n",
    "# model.fit(X, y, cat_col_names=CATS)"
   ]
  },
  {
   "cell_type": "code",
   "execution_count": 12,
   "id": "1571fad3",
   "metadata": {
    "execution": {
     "iopub.execute_input": "2025-10-12T00:48:12.844990Z",
     "iopub.status.busy": "2025-10-12T00:48:12.844770Z",
     "iopub.status.idle": "2025-10-12T00:48:12.848678Z",
     "shell.execute_reply": "2025-10-12T00:48:12.848128Z"
    },
    "papermill": {
     "duration": 0.028204,
     "end_time": "2025-10-12T00:48:12.849730",
     "exception": false,
     "start_time": "2025-10-12T00:48:12.821526",
     "status": "completed"
    },
    "tags": []
   },
   "outputs": [],
   "source": [
    "import os, sys\n",
    "from contextlib import contextmanager\n",
    "\n",
    "@contextmanager\n",
    "def suppress_stdout():\n",
    "    with open(os.devnull, \"w\") as devnull:\n",
    "        old_stdout = sys.stdout\n",
    "        sys.stdout = devnull\n",
    "        try:\n",
    "            yield\n",
    "        finally:\n",
    "            sys.stdout = old_stdout"
   ]
  },
  {
   "cell_type": "code",
   "execution_count": 13,
   "id": "c7596e63",
   "metadata": {
    "execution": {
     "iopub.execute_input": "2025-10-12T00:48:12.897821Z",
     "iopub.status.busy": "2025-10-12T00:48:12.897596Z",
     "iopub.status.idle": "2025-10-12T00:48:12.901745Z",
     "shell.execute_reply": "2025-10-12T00:48:12.901144Z"
    },
    "papermill": {
     "duration": 0.029468,
     "end_time": "2025-10-12T00:48:12.902867",
     "exception": false,
     "start_time": "2025-10-12T00:48:12.873399",
     "status": "completed"
    },
    "tags": []
   },
   "outputs": [],
   "source": [
    "params = {'batch_size': 'auto',\n",
    "          'patience': 16,\n",
    "          'allow_amp': True,\n",
    "          'arch_type': 'tabm',\n",
    "          'tabm_k': 32,\n",
    "          'gradient_clipping_norm': 1.0,\n",
    "          'share_training_batches': False,\n",
    "          'lr': 0.0029993695720154537,\n",
    "          'weight_decay': 0.023742083301699905,\n",
    "          'n_blocks': 3,\n",
    "          'd_block': 448,\n",
    "          'dropout': 0.0,\n",
    "          'num_emb_type': 'pwl',\n",
    "          'd_embedding': 32,\n",
    "          'num_emb_n_bins': 119,\n",
    "         }"
   ]
  },
  {
   "cell_type": "code",
   "execution_count": 14,
   "id": "69f5424d",
   "metadata": {
    "execution": {
     "iopub.execute_input": "2025-10-12T00:48:12.951682Z",
     "iopub.status.busy": "2025-10-12T00:48:12.951407Z",
     "iopub.status.idle": "2025-10-12T00:48:26.783572Z",
     "shell.execute_reply": "2025-10-12T00:48:26.782976Z"
    },
    "papermill": {
     "duration": 13.858275,
     "end_time": "2025-10-12T00:48:26.784901",
     "exception": false,
     "start_time": "2025-10-12T00:48:12.926626",
     "status": "completed"
    },
    "tags": []
   },
   "outputs": [],
   "source": [
    "from pytabkit import TabM_D_Regressor\n",
    "from sklearn.metrics import root_mean_squared_error"
   ]
  },
  {
   "cell_type": "code",
   "execution_count": 15,
   "id": "c0c5836e",
   "metadata": {
    "execution": {
     "iopub.execute_input": "2025-10-12T00:48:26.831395Z",
     "iopub.status.busy": "2025-10-12T00:48:26.831009Z",
     "iopub.status.idle": "2025-10-12T01:34:50.053822Z",
     "shell.execute_reply": "2025-10-12T01:34:50.052894Z"
    },
    "papermill": {
     "duration": 2783.270819,
     "end_time": "2025-10-12T01:34:50.078696",
     "exception": false,
     "start_time": "2025-10-12T00:48:26.807877",
     "status": "completed"
    },
    "tags": []
   },
   "outputs": [
    {
     "name": "stdout",
     "output_type": "stream",
     "text": [
      "--- Fold 1/5 ---\n",
      "Fold 1 RMSE: 0.05608\n",
      "--- Fold 2/5 ---\n",
      "Fold 2 RMSE: 0.05593\n",
      "--- Fold 3/5 ---\n",
      "Fold 3 RMSE: 0.05602\n",
      "--- Fold 4/5 ---\n",
      "Fold 4 RMSE: 0.05584\n",
      "--- Fold 5/5 ---\n",
      "Fold 5 RMSE: 0.05579\n",
      "Overall OOF RMSE: 0.05593\n"
     ]
    }
   ],
   "source": [
    "oof_preds = np.zeros(len(X))\n",
    "test_preds = np.zeros(len(test))\n",
    "\n",
    "for fold, (train_idx, val_idx) in enumerate(kf.split(X, y)):\n",
    "    print(f'--- Fold {fold+1}/{N_SPLITS} ---')\n",
    "    \n",
    "    X_train, X_val = X.iloc[train_idx], X.iloc[val_idx]\n",
    "    y_train, y_val = y.iloc[train_idx], y.iloc[val_idx]\n",
    "\n",
    "    with suppress_stdout():\n",
    "        model = TabM_D_Regressor(**params)\n",
    "        model.fit(X_train, y_train, X_val, y_val, cat_col_names=CATS)\n",
    "    \n",
    "    oof_preds[val_idx] = model.predict(X_val)\n",
    "    test_preds += model.predict(X_test)\n",
    "\n",
    "    print(f\"Fold {fold+1} RMSE: {root_mean_squared_error(y_val+train.iloc[val_idx].y, oof_preds[val_idx]+train.iloc[val_idx].y):.5f}\")\n",
    "\n",
    "test_preds /= N_SPLITS\n",
    "\n",
    "y_true_final = y.to_numpy() + train.y.to_numpy()\n",
    "y_pred_final = oof_preds + train.y.to_numpy()\n",
    "\n",
    "print(f\"Overall OOF RMSE: {root_mean_squared_error(y_true_final, y_pred_final):.5f}\")"
   ]
  },
  {
   "cell_type": "code",
   "execution_count": 16,
   "id": "69a3e6ee",
   "metadata": {
    "execution": {
     "iopub.execute_input": "2025-10-12T01:34:50.125403Z",
     "iopub.status.busy": "2025-10-12T01:34:50.125157Z",
     "iopub.status.idle": "2025-10-12T01:34:51.447129Z",
     "shell.execute_reply": "2025-10-12T01:34:51.446250Z"
    },
    "papermill": {
     "duration": 1.346938,
     "end_time": "2025-10-12T01:34:51.448572",
     "exception": false,
     "start_time": "2025-10-12T01:34:50.101634",
     "status": "completed"
    },
    "tags": []
   },
   "outputs": [],
   "source": [
    "pd.DataFrame({'id': train.id, TARGET: oof_preds+train['y'].to_numpy()}).to_csv('oof_tabm_overresid.csv', index=False)\n",
    "pd.DataFrame({'id': test.id, TARGET: test_preds+test['y'].to_numpy()}).to_csv('test_tabm_overresid.csv', index=False)"
   ]
  },
  {
   "cell_type": "code",
   "execution_count": null,
   "id": "7f2f719f",
   "metadata": {
    "papermill": {
     "duration": 0.0224,
     "end_time": "2025-10-12T01:34:51.494074",
     "exception": false,
     "start_time": "2025-10-12T01:34:51.471674",
     "status": "completed"
    },
    "tags": []
   },
   "outputs": [],
   "source": []
  }
 ],
 "metadata": {
  "kaggle": {
   "accelerator": "gpu",
   "dataSources": [
    {
     "databundleVersionId": 13760552,
     "sourceId": 91721,
     "sourceType": "competition"
    },
    {
     "datasetId": 7797612,
     "sourceId": 12367739,
     "sourceType": "datasetVersion"
    }
   ],
   "dockerImageVersionId": 31090,
   "isGpuEnabled": true,
   "isInternetEnabled": true,
   "language": "python",
   "sourceType": "notebook"
  },
  "kernelspec": {
   "display_name": "Python 3",
   "language": "python",
   "name": "python3"
  },
  "language_info": {
   "codemirror_mode": {
    "name": "ipython",
    "version": 3
   },
   "file_extension": ".py",
   "mimetype": "text/x-python",
   "name": "python",
   "nbconvert_exporter": "python",
   "pygments_lexer": "ipython3",
   "version": "3.11.13"
  },
  "papermill": {
   "default_parameters": {},
   "duration": 2893.496316,
   "end_time": "2025-10-12T01:34:53.542745",
   "environment_variables": {},
   "exception": null,
   "input_path": "__notebook__.ipynb",
   "output_path": "__notebook__.ipynb",
   "parameters": {},
   "start_time": "2025-10-12T00:46:40.046429",
   "version": "2.6.0"
  }
 },
 "nbformat": 4,
 "nbformat_minor": 5
}
