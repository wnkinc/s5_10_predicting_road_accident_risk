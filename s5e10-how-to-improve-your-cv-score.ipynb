{
 "cells": [
  {
   "cell_type": "code",
   "execution_count": 1,
   "id": "6d3ff223",
   "metadata": {
    "_cell_guid": "b1076dfc-b9ad-4769-8c92-a6c4dae69d19",
    "_uuid": "8f2839f25d086af736a60e9eeb907d3b93b6e0e5",
    "execution": {
     "iopub.execute_input": "2025-10-08T00:35:10.989884Z",
     "iopub.status.busy": "2025-10-08T00:35:10.989157Z",
     "iopub.status.idle": "2025-10-08T00:35:10.995039Z",
     "shell.execute_reply": "2025-10-08T00:35:10.994563Z"
    },
    "papermill": {
     "duration": 0.011387,
     "end_time": "2025-10-08T00:35:10.996104",
     "exception": false,
     "start_time": "2025-10-08T00:35:10.984717",
     "status": "completed"
    },
    "tags": []
   },
   "outputs": [],
   "source": [
    "import warnings\n",
    "warnings.simplefilter('ignore')"
   ]
  },
  {
   "cell_type": "markdown",
   "id": "f00ce421",
   "metadata": {
    "papermill": {
     "duration": 0.002423,
     "end_time": "2025-10-08T00:35:11.001445",
     "exception": false,
     "start_time": "2025-10-08T00:35:10.999022",
     "status": "completed"
    },
    "tags": []
   },
   "source": [
    "# 1. Load Data\n",
    "\n",
    "Here we load the required libraries (`pandas`, `numpy`) and datasets.\n",
    "\n",
    "* **Competition Data**: `train.csv` and `test.csv`.\n",
    "* **External Data**: The original dataset from which the competition data was generated. We combine its multiple files into a single `orig` DataFrame to augment our training data, a common strategy for improving model performance in Playground Series competitions.\n",
    "\n",
    "Finally, we'll do a quick sanity check with `.shape` and `.head()` to ensure everything is loaded correctly."
   ]
  },
  {
   "cell_type": "code",
   "execution_count": 2,
   "id": "8eebfd90",
   "metadata": {
    "execution": {
     "iopub.execute_input": "2025-10-08T00:35:11.007220Z",
     "iopub.status.busy": "2025-10-08T00:35:11.007037Z",
     "iopub.status.idle": "2025-10-08T00:35:13.711927Z",
     "shell.execute_reply": "2025-10-08T00:35:13.711217Z"
    },
    "papermill": {
     "duration": 2.709151,
     "end_time": "2025-10-08T00:35:13.713109",
     "exception": false,
     "start_time": "2025-10-08T00:35:11.003958",
     "status": "completed"
    },
    "tags": []
   },
   "outputs": [
    {
     "name": "stdout",
     "output_type": "stream",
     "text": [
      "Train Shape: (517754, 14)\n",
      "Test Shape: (172585, 13)\n",
      "Orig Shape: (112000, 13)\n"
     ]
    },
    {
     "data": {
      "text/html": [
       "<div>\n",
       "<style scoped>\n",
       "    .dataframe tbody tr th:only-of-type {\n",
       "        vertical-align: middle;\n",
       "    }\n",
       "\n",
       "    .dataframe tbody tr th {\n",
       "        vertical-align: top;\n",
       "    }\n",
       "\n",
       "    .dataframe thead th {\n",
       "        text-align: right;\n",
       "    }\n",
       "</style>\n",
       "<table border=\"1\" class=\"dataframe\">\n",
       "  <thead>\n",
       "    <tr style=\"text-align: right;\">\n",
       "      <th></th>\n",
       "      <th>id</th>\n",
       "      <th>road_type</th>\n",
       "      <th>num_lanes</th>\n",
       "      <th>curvature</th>\n",
       "      <th>speed_limit</th>\n",
       "      <th>lighting</th>\n",
       "      <th>weather</th>\n",
       "      <th>road_signs_present</th>\n",
       "      <th>public_road</th>\n",
       "      <th>time_of_day</th>\n",
       "      <th>holiday</th>\n",
       "      <th>school_season</th>\n",
       "      <th>num_reported_accidents</th>\n",
       "      <th>accident_risk</th>\n",
       "    </tr>\n",
       "  </thead>\n",
       "  <tbody>\n",
       "    <tr>\n",
       "      <th>0</th>\n",
       "      <td>0</td>\n",
       "      <td>urban</td>\n",
       "      <td>2</td>\n",
       "      <td>0.06</td>\n",
       "      <td>35</td>\n",
       "      <td>daylight</td>\n",
       "      <td>rainy</td>\n",
       "      <td>False</td>\n",
       "      <td>True</td>\n",
       "      <td>afternoon</td>\n",
       "      <td>False</td>\n",
       "      <td>True</td>\n",
       "      <td>1</td>\n",
       "      <td>0.13</td>\n",
       "    </tr>\n",
       "    <tr>\n",
       "      <th>1</th>\n",
       "      <td>1</td>\n",
       "      <td>urban</td>\n",
       "      <td>4</td>\n",
       "      <td>0.99</td>\n",
       "      <td>35</td>\n",
       "      <td>daylight</td>\n",
       "      <td>clear</td>\n",
       "      <td>True</td>\n",
       "      <td>False</td>\n",
       "      <td>evening</td>\n",
       "      <td>True</td>\n",
       "      <td>True</td>\n",
       "      <td>0</td>\n",
       "      <td>0.35</td>\n",
       "    </tr>\n",
       "    <tr>\n",
       "      <th>2</th>\n",
       "      <td>2</td>\n",
       "      <td>rural</td>\n",
       "      <td>4</td>\n",
       "      <td>0.63</td>\n",
       "      <td>70</td>\n",
       "      <td>dim</td>\n",
       "      <td>clear</td>\n",
       "      <td>False</td>\n",
       "      <td>True</td>\n",
       "      <td>morning</td>\n",
       "      <td>True</td>\n",
       "      <td>False</td>\n",
       "      <td>2</td>\n",
       "      <td>0.30</td>\n",
       "    </tr>\n",
       "  </tbody>\n",
       "</table>\n",
       "</div>"
      ],
      "text/plain": [
       "   id road_type  num_lanes  curvature  speed_limit  lighting weather  \\\n",
       "0   0     urban          2       0.06           35  daylight   rainy   \n",
       "1   1     urban          4       0.99           35  daylight   clear   \n",
       "2   2     rural          4       0.63           70       dim   clear   \n",
       "\n",
       "   road_signs_present  public_road time_of_day  holiday  school_season  \\\n",
       "0               False         True   afternoon    False           True   \n",
       "1                True        False     evening     True           True   \n",
       "2               False         True     morning     True          False   \n",
       "\n",
       "   num_reported_accidents  accident_risk  \n",
       "0                       1           0.13  \n",
       "1                       0           0.35  \n",
       "2                       2           0.30  "
      ]
     },
     "execution_count": 2,
     "metadata": {},
     "output_type": "execute_result"
    }
   ],
   "source": [
    "import pandas as pd, numpy as np\n",
    "\n",
    "train = pd.read_csv('/kaggle/input/playground-series-s5e10/train.csv')\n",
    "test = pd.read_csv('/kaggle/input/playground-series-s5e10/test.csv')\n",
    "orig = pd.read_csv('/kaggle/input/simulated-roads-accident-data/synthetic_road_accidents_100k.csv')\n",
    "orig_2 = pd.read_csv('/kaggle/input/simulated-roads-accident-data/synthetic_road_accidents_10k.csv')\n",
    "orig_3 = pd.read_csv('/kaggle/input/simulated-roads-accident-data/synthetic_road_accidents_2k.csv')\n",
    "orig = pd.concat([orig, orig_2, orig_3])\n",
    "\n",
    "print('Train Shape:', train.shape)\n",
    "print('Test Shape:', test.shape)\n",
    "print('Orig Shape:', orig.shape)\n",
    "\n",
    "train.head(3)"
   ]
  },
  {
   "cell_type": "code",
   "execution_count": 3,
   "id": "972473a5",
   "metadata": {
    "execution": {
     "iopub.execute_input": "2025-10-08T00:35:13.720119Z",
     "iopub.status.busy": "2025-10-08T00:35:13.719902Z",
     "iopub.status.idle": "2025-10-08T00:35:13.724244Z",
     "shell.execute_reply": "2025-10-08T00:35:13.723694Z"
    },
    "papermill": {
     "duration": 0.008854,
     "end_time": "2025-10-08T00:35:13.725264",
     "exception": false,
     "start_time": "2025-10-08T00:35:13.716410",
     "status": "completed"
    },
    "tags": []
   },
   "outputs": [
    {
     "name": "stdout",
     "output_type": "stream",
     "text": [
      "12 Base Features:['road_type', 'num_lanes', 'curvature', 'speed_limit', 'lighting', 'weather', 'road_signs_present', 'public_road', 'time_of_day', 'holiday', 'school_season', 'num_reported_accidents']\n"
     ]
    }
   ],
   "source": [
    "TARGET = 'accident_risk'\n",
    "BASE = [col for col in train.columns if col not in ['id', TARGET]]\n",
    "CATS = ['road_type', 'lighting', 'weather', 'road_signs_present', 'public_road', 'time_of_day', 'holiday', 'school_season']\n",
    "print(f'{len(BASE)} Base Features:{BASE}')"
   ]
  },
  {
   "cell_type": "markdown",
   "id": "b94455d1",
   "metadata": {
    "papermill": {
     "duration": 0.002747,
     "end_time": "2025-10-08T00:35:13.730883",
     "exception": false,
     "start_time": "2025-10-08T00:35:13.728136",
     "status": "completed"
    },
    "tags": []
   },
   "source": [
    "# 2. Baseline Model\n",
    "\n",
    "Before diving into complex feature engineering or parameter tuning, it's crucial to establish a **baseline score**. This score, calculated using only the initial features and a standard set of model parameters, will serve as a benchmark to measure all future improvements.\n",
    "\n",
    "We will use a 5-fold cross-validation (`KFold`) strategy to train our `XGBRegressor` model. This provides a robust estimate of the model's performance.\n",
    "\n",
    "Key points of the implementation:\n",
    "* We use **Out-of-Fold (OOF)** predictions to calculate a single, reliable CV score across the entire training set.\n",
    "* We employ **early stopping** to automatically find the optimal number of boosting rounds and prevent overfitting, which is a very effective practice.\n",
    "* We leverage XGBoost's native support for categorical features by setting `enable_categorical=True`."
   ]
  },
  {
   "cell_type": "code",
   "execution_count": 4,
   "id": "ead3b300",
   "metadata": {
    "execution": {
     "iopub.execute_input": "2025-10-08T00:35:13.737412Z",
     "iopub.status.busy": "2025-10-08T00:35:13.736953Z",
     "iopub.status.idle": "2025-10-08T00:35:13.739958Z",
     "shell.execute_reply": "2025-10-08T00:35:13.739464Z"
    },
    "papermill": {
     "duration": 0.007219,
     "end_time": "2025-10-08T00:35:13.740886",
     "exception": false,
     "start_time": "2025-10-08T00:35:13.733667",
     "status": "completed"
    },
    "tags": []
   },
   "outputs": [],
   "source": [
    "FEATURES = BASE"
   ]
  },
  {
   "cell_type": "code",
   "execution_count": 5,
   "id": "a7613634",
   "metadata": {
    "execution": {
     "iopub.execute_input": "2025-10-08T00:35:13.747177Z",
     "iopub.status.busy": "2025-10-08T00:35:13.746995Z",
     "iopub.status.idle": "2025-10-08T00:35:15.146127Z",
     "shell.execute_reply": "2025-10-08T00:35:15.145287Z"
    },
    "papermill": {
     "duration": 1.403886,
     "end_time": "2025-10-08T00:35:15.147555",
     "exception": false,
     "start_time": "2025-10-08T00:35:13.743669",
     "status": "completed"
    },
    "tags": []
   },
   "outputs": [],
   "source": [
    "from sklearn.metrics import mean_squared_error\n",
    "from sklearn.model_selection import KFold\n",
    "from xgboost import XGBRegressor"
   ]
  },
  {
   "cell_type": "code",
   "execution_count": 6,
   "id": "9d469423",
   "metadata": {
    "execution": {
     "iopub.execute_input": "2025-10-08T00:35:15.154468Z",
     "iopub.status.busy": "2025-10-08T00:35:15.154091Z",
     "iopub.status.idle": "2025-10-08T00:36:26.287920Z",
     "shell.execute_reply": "2025-10-08T00:36:26.286947Z"
    },
    "papermill": {
     "duration": 71.138516,
     "end_time": "2025-10-08T00:36:26.289117",
     "exception": false,
     "start_time": "2025-10-08T00:35:15.150601",
     "status": "completed"
    },
    "tags": []
   },
   "outputs": [
    {
     "name": "stdout",
     "output_type": "stream",
     "text": [
      "---Fold 1/5---\n",
      "[0]\tvalidation_0-rmse:0.16472\n",
      "[1000]\tvalidation_0-rmse:0.05626\n",
      "[2000]\tvalidation_0-rmse:0.05622\n",
      "[2656]\tvalidation_0-rmse:0.05622\n",
      "Fold 1 RMSE: 0.05621591880912533\n",
      "---Fold 2/5---\n",
      "[0]\tvalidation_0-rmse:0.16500\n",
      "[1000]\tvalidation_0-rmse:0.05612\n",
      "[2000]\tvalidation_0-rmse:0.05608\n",
      "[2346]\tvalidation_0-rmse:0.05608\n",
      "Fold 2 RMSE: 0.05608078455283933\n",
      "---Fold 3/5---\n",
      "[0]\tvalidation_0-rmse:0.16543\n",
      "[1000]\tvalidation_0-rmse:0.05616\n",
      "[2000]\tvalidation_0-rmse:0.05612\n",
      "[2287]\tvalidation_0-rmse:0.05612\n",
      "Fold 3 RMSE: 0.0561236413767553\n",
      "---Fold 4/5---\n",
      "[0]\tvalidation_0-rmse:0.16455\n",
      "[1000]\tvalidation_0-rmse:0.05601\n",
      "[2000]\tvalidation_0-rmse:0.05598\n",
      "[2067]\tvalidation_0-rmse:0.05598\n",
      "Fold 4 RMSE: 0.05597775248093453\n",
      "---Fold 5/5---\n",
      "[0]\tvalidation_0-rmse:0.16509\n",
      "[1000]\tvalidation_0-rmse:0.05595\n",
      "[2000]\tvalidation_0-rmse:0.05591\n",
      "[2730]\tvalidation_0-rmse:0.05590\n",
      "Fold 5 RMSE: 0.05590353177908703\n",
      "Overall OOF RMSE: 0.05606\n"
     ]
    }
   ],
   "source": [
    "kf = KFold(n_splits=5, shuffle=True, random_state=42)\n",
    "\n",
    "oof_preds = np.zeros(len(train))\n",
    "\n",
    "for fold, (train_idx, val_idx) in enumerate(kf.split(train)):\n",
    "    print(f'---Fold {fold+1}/5---')\n",
    "    \n",
    "    X_train, X_val = train.iloc[train_idx][FEATURES], train.iloc[val_idx][FEATURES]\n",
    "    y_train, y_val = train.iloc[train_idx][TARGET], train.iloc[val_idx][TARGET]\n",
    "\n",
    "    X_train[CATS] = X_train[CATS].astype('category')    \n",
    "    X_val[CATS] = X_val[CATS].astype('category')    \n",
    "    \n",
    "    model = XGBRegressor(\n",
    "        n_estimators=100000,\n",
    "        learning_rate=0.01,\n",
    "        max_depth=6,\n",
    "        subsample=0.8,\n",
    "        colsample_bytree=0.8,\n",
    "        enable_categorical=True,\n",
    "        device='cuda',\n",
    "        early_stopping_rounds=200,\n",
    "    )\n",
    "    \n",
    "    model.fit(X_train, y_train,\n",
    "              eval_set=[(X_val, y_val)],\n",
    "              verbose=1000, \n",
    "             )\n",
    "    \n",
    "    oof_preds[val_idx] +=  model.predict(X_val)\n",
    "    \n",
    "    print(f\"Fold {fold+1} RMSE: {mean_squared_error(y_val, oof_preds[val_idx], squared=False)}\")\n",
    "print(f\"Overall OOF RMSE: {mean_squared_error(train[TARGET], oof_preds, squared=False):.5f}\")"
   ]
  },
  {
   "cell_type": "markdown",
   "id": "35d9f52d",
   "metadata": {
    "papermill": {
     "duration": 0.003805,
     "end_time": "2025-10-08T00:36:26.298276",
     "exception": false,
     "start_time": "2025-10-08T00:36:26.294471",
     "status": "completed"
    },
    "tags": []
   },
   "source": [
    "# 3. Feature Engineering\n",
    "\n",
    "With a baseline established, we now create new features to improve our model's performance. A well-designed feature can often provide more signal than a complex model. We'll create two distinct types.\n",
    "\n",
    "### 1. \"Orig\" Target Encoded Features\n",
    "This is a powerful form of **target encoding**.\n",
    "\n",
    "For each base categorical column, we calculate the average target value using the large, **external `orig` dataset**. We then merge this aggregated information back into our `train` and `test` sets. This technique safely encodes the predictive power of each category without causing **data leakage** from our training data.\n",
    "\n",
    "### 2. \"Meta\" Risk Feature\n",
    "This is a **hand-crafted feature** that combines several columns using a weighted formula.\n",
    "\n",
    "The formula is designed to approximate the logic used to generate the original synthetic dataset. By attempting to reverse-engineer this logic, we aim to create a single, powerful feature that captures the core underlying \"risk\" signal present in the data."
   ]
  },
  {
   "cell_type": "code",
   "execution_count": 7,
   "id": "03f25866",
   "metadata": {
    "execution": {
     "iopub.execute_input": "2025-10-08T00:36:26.307459Z",
     "iopub.status.busy": "2025-10-08T00:36:26.306767Z",
     "iopub.status.idle": "2025-10-08T00:36:27.551868Z",
     "shell.execute_reply": "2025-10-08T00:36:27.551063Z"
    },
    "papermill": {
     "duration": 1.251153,
     "end_time": "2025-10-08T00:36:27.553237",
     "exception": false,
     "start_time": "2025-10-08T00:36:26.302084",
     "status": "completed"
    },
    "tags": []
   },
   "outputs": [
    {
     "name": "stdout",
     "output_type": "stream",
     "text": [
      "12 Orig Features Created!!\n"
     ]
    }
   ],
   "source": [
    "ORIG = []\n",
    "\n",
    "for col in BASE:\n",
    "    tmp = orig.groupby(col)[TARGET].mean()\n",
    "    new_col_name = f\"orig_{col}\"\n",
    "    tmp.name = new_col_name\n",
    "    train = train.merge(tmp, on=col, how='left')\n",
    "    test = test.merge(tmp, on=col, how='left')\n",
    "    ORIG.append(new_col_name)\n",
    "\n",
    "print(len(ORIG), 'Orig Features Created!!')"
   ]
  },
  {
   "cell_type": "code",
   "execution_count": 8,
   "id": "98e75d31",
   "metadata": {
    "execution": {
     "iopub.execute_input": "2025-10-08T00:36:27.562983Z",
     "iopub.status.busy": "2025-10-08T00:36:27.562746Z",
     "iopub.status.idle": "2025-10-08T00:36:27.692193Z",
     "shell.execute_reply": "2025-10-08T00:36:27.691575Z"
    },
    "papermill": {
     "duration": 0.135874,
     "end_time": "2025-10-08T00:36:27.693566",
     "exception": false,
     "start_time": "2025-10-08T00:36:27.557692",
     "status": "completed"
    },
    "tags": []
   },
   "outputs": [],
   "source": [
    "META = []\n",
    "\n",
    "for df in [train, test, orig]:\n",
    "    base_risk = (\n",
    "        0.3 * df[\"curvature\"] + \n",
    "        0.2 * (df[\"lighting\"] == \"night\").astype(int) + \n",
    "        0.1 * (df[\"weather\"] != \"clear\").astype(int) + \n",
    "        0.2 * (df[\"speed_limit\"] >= 60).astype(int) + \n",
    "        0.1 * (np.array(df[\"num_reported_accidents\"]) > 2).astype(int)\n",
    "    )\n",
    "    df['Meta'] = base_risk\n",
    "\n",
    "META.append('Meta')"
   ]
  },
  {
   "cell_type": "code",
   "execution_count": 9,
   "id": "850826e3",
   "metadata": {
    "execution": {
     "iopub.execute_input": "2025-10-08T00:36:27.704412Z",
     "iopub.status.busy": "2025-10-08T00:36:27.704155Z",
     "iopub.status.idle": "2025-10-08T00:36:27.708146Z",
     "shell.execute_reply": "2025-10-08T00:36:27.707471Z"
    },
    "papermill": {
     "duration": 0.010518,
     "end_time": "2025-10-08T00:36:27.709294",
     "exception": false,
     "start_time": "2025-10-08T00:36:27.698776",
     "status": "completed"
    },
    "tags": []
   },
   "outputs": [
    {
     "name": "stdout",
     "output_type": "stream",
     "text": [
      "25 Features.\n"
     ]
    }
   ],
   "source": [
    "FEATURES = BASE + ORIG + META\n",
    "print(len(FEATURES), 'Features.')"
   ]
  },
  {
   "cell_type": "code",
   "execution_count": 10,
   "id": "6546290a",
   "metadata": {
    "execution": {
     "iopub.execute_input": "2025-10-08T00:36:27.717944Z",
     "iopub.status.busy": "2025-10-08T00:36:27.717552Z",
     "iopub.status.idle": "2025-10-08T00:38:05.634819Z",
     "shell.execute_reply": "2025-10-08T00:38:05.633819Z"
    },
    "papermill": {
     "duration": 97.923046,
     "end_time": "2025-10-08T00:38:05.636183",
     "exception": false,
     "start_time": "2025-10-08T00:36:27.713137",
     "status": "completed"
    },
    "tags": []
   },
   "outputs": [
    {
     "name": "stdout",
     "output_type": "stream",
     "text": [
      "---Fold 1/5---\n",
      "[0]\tvalidation_0-rmse:0.16471\n",
      "[500]\tvalidation_0-rmse:0.05642\n",
      "[1000]\tvalidation_0-rmse:0.05623\n",
      "[1500]\tvalidation_0-rmse:0.05617\n",
      "[2000]\tvalidation_0-rmse:0.05614\n",
      "[2500]\tvalidation_0-rmse:0.05613\n",
      "[2977]\tvalidation_0-rmse:0.05613\n",
      "Fold 1 RMSE: 0.0561273247126912\n",
      "---Fold 2/5---\n",
      "[0]\tvalidation_0-rmse:0.16499\n",
      "[500]\tvalidation_0-rmse:0.05624\n",
      "[1000]\tvalidation_0-rmse:0.05608\n",
      "[1500]\tvalidation_0-rmse:0.05603\n",
      "[2000]\tvalidation_0-rmse:0.05600\n",
      "[2500]\tvalidation_0-rmse:0.05599\n",
      "[3000]\tvalidation_0-rmse:0.05599\n",
      "[3103]\tvalidation_0-rmse:0.05599\n",
      "Fold 2 RMSE: 0.0559876133656847\n",
      "---Fold 3/5---\n",
      "[0]\tvalidation_0-rmse:0.16542\n",
      "[500]\tvalidation_0-rmse:0.05626\n",
      "[1000]\tvalidation_0-rmse:0.05610\n",
      "[1500]\tvalidation_0-rmse:0.05606\n",
      "[2000]\tvalidation_0-rmse:0.05605\n",
      "[2434]\tvalidation_0-rmse:0.05605\n",
      "Fold 3 RMSE: 0.0560437284369684\n",
      "---Fold 4/5---\n",
      "[0]\tvalidation_0-rmse:0.16455\n",
      "[500]\tvalidation_0-rmse:0.05613\n",
      "[1000]\tvalidation_0-rmse:0.05597\n",
      "[1500]\tvalidation_0-rmse:0.05591\n",
      "[2000]\tvalidation_0-rmse:0.05589\n",
      "[2500]\tvalidation_0-rmse:0.05589\n",
      "[2836]\tvalidation_0-rmse:0.05589\n",
      "Fold 4 RMSE: 0.055885096098149796\n",
      "---Fold 5/5---\n",
      "[0]\tvalidation_0-rmse:0.16509\n",
      "[500]\tvalidation_0-rmse:0.05608\n",
      "[1000]\tvalidation_0-rmse:0.05591\n",
      "[1500]\tvalidation_0-rmse:0.05585\n",
      "[2000]\tvalidation_0-rmse:0.05582\n",
      "[2500]\tvalidation_0-rmse:0.05581\n",
      "[2732]\tvalidation_0-rmse:0.05581\n",
      "Fold 5 RMSE: 0.05580646844584081\n",
      "Overall OOF RMSE: 0.05597\n"
     ]
    }
   ],
   "source": [
    "kf = KFold(n_splits=5, shuffle=True, random_state=42)\n",
    "\n",
    "oof_preds = np.zeros(len(train))\n",
    "\n",
    "for fold, (train_idx, val_idx) in enumerate(kf.split(train)):\n",
    "    print(f'---Fold {fold+1}/5---')\n",
    "    \n",
    "    X_train, X_val = train.iloc[train_idx][FEATURES], train.iloc[val_idx][FEATURES]\n",
    "    y_train, y_val = train.iloc[train_idx][TARGET], train.iloc[val_idx][TARGET]\n",
    "\n",
    "    X_train[CATS] = X_train[CATS].astype('category')    \n",
    "    X_val[CATS] = X_val[CATS].astype('category')    \n",
    "    \n",
    "    model = XGBRegressor(\n",
    "        n_estimators=100000,\n",
    "        learning_rate=0.01,\n",
    "        max_depth=6,\n",
    "        subsample=0.8,\n",
    "        colsample_bytree=0.8,\n",
    "        enable_categorical=True,\n",
    "        device='cuda',\n",
    "        early_stopping_rounds=200,\n",
    "    )\n",
    "    \n",
    "    model.fit(X_train, y_train,\n",
    "              eval_set=[(X_val, y_val)],\n",
    "              verbose=500, \n",
    "             )\n",
    "    \n",
    "    oof_preds[val_idx] +=  model.predict(X_val)\n",
    "    \n",
    "    print(f\"Fold {fold+1} RMSE: {mean_squared_error(y_val, oof_preds[val_idx], squared=False)}\")\n",
    "print(f\"Overall OOF RMSE: {mean_squared_error(train[TARGET], oof_preds, squared=False):.5f}\")"
   ]
  },
  {
   "cell_type": "markdown",
   "id": "0f92bb7a",
   "metadata": {
    "papermill": {
     "duration": 0.005572,
     "end_time": "2025-10-08T00:38:05.647740",
     "exception": false,
     "start_time": "2025-10-08T00:38:05.642168",
     "status": "completed"
    },
    "tags": []
   },
   "source": [
    "# 4. Parameter Tuning with Optuna\n",
    "\n",
    "With our new features in place, we'll now fine-tune the model's hyperparameters to further boost our CV score. For this, we'll use **Optuna**, a modern optimization framework that automates the search process.\n",
    "\n",
    "### Our Approach\n",
    "We define an `objective` function where for each **trial**, Optuna suggests a new combination of hyperparameters. Inside this function, we run a full 5-fold cross-validation and return the final OOF RMSE. Optuna's goal is to find the parameter set that minimizes this score.\n",
    "\n",
    "For this notebook, we'll focus on tuning three of the most impactful hyperparameters for XGBoost:\n",
    "* `max_depth`\n",
    "* `subsample`\n",
    "* `colsample_bytree`\n",
    "\n",
    "There are many other parameters worth exploring. I encourage you to check the official documentation and other public notebooks to deepen your understanding.\n",
    "\n",
    "> ### ⚠️ Important Note on Execution\n",
    ">\n",
    "> Please note that the Optuna optimization cell is **commented out** in this notebook to save execution time. The process is computationally expensive and can take a while to complete.\n",
    ">\n",
    "> If you wish to run it yourself, I highly recommend **enabling a GPU accelerator** (like a P100 or T4 x2) in your notebook settings for a much faster experience.\n",
    ">\n",
    "> While tuning can provide a solid improvement, the gains are often more modest compared to the impact of strong feature engineering. However, every bit of accuracy counts in a competition!"
   ]
  },
  {
   "cell_type": "code",
   "execution_count": 11,
   "id": "b3e81456",
   "metadata": {
    "execution": {
     "iopub.execute_input": "2025-10-08T00:38:05.660244Z",
     "iopub.status.busy": "2025-10-08T00:38:05.659686Z",
     "iopub.status.idle": "2025-10-08T00:38:05.664234Z",
     "shell.execute_reply": "2025-10-08T00:38:05.663590Z"
    },
    "papermill": {
     "duration": 0.012327,
     "end_time": "2025-10-08T00:38:05.665477",
     "exception": false,
     "start_time": "2025-10-08T00:38:05.653150",
     "status": "completed"
    },
    "tags": []
   },
   "outputs": [],
   "source": [
    "# import optuna\n",
    "\n",
    "# def objective(trial):\n",
    "#     params = {\n",
    "#         'max_depth': trial.suggest_int('max_depth', 3, 10),\n",
    "#         'subsample': trial.suggest_float('subsample', 0.5, 1.0),\n",
    "#         'colsample_bytree': trial.suggest_float('colsample_bytree', 0.5, 1.0),\n",
    "#     }\n",
    "\n",
    "#     params['n_estimators'] = 100000\n",
    "#     params['learning_rate'] = 0.01\n",
    "#     params['device'] = 'cuda'\n",
    "#     params['early_stopping_rounds'] = 100\n",
    "#     params['enable_categorical'] = True\n",
    "    \n",
    "#     oof_preds = np.zeros(len(train))\n",
    "#     scores = []\n",
    "\n",
    "#     for fold, (train_idx, val_idx) in enumerate(kf.split(train)):\n",
    "#         X_train, X_val = train.iloc[train_idx][FEATURES], train.iloc[val_idx][FEATURES]\n",
    "#         y_train, y_val = train.iloc[train_idx][TARGET], train.iloc[val_idx][TARGET]\n",
    "        \n",
    "#         X_train[CATS] = X_train[CATS].astype('category')\n",
    "#         X_val[CATS] = X_val[CATS].astype('category')\n",
    "\n",
    "#         model = XGBRegressor(**params)\n",
    "        \n",
    "#         model.fit(X_train, y_train,\n",
    "#                   eval_set=[(X_val, y_val)],\n",
    "#                   verbose=0)\n",
    "\n",
    "#         val_preds = model.predict(X_val)\n",
    "#         oof_preds[val_idx] += val_preds\n",
    "        \n",
    "#         score = mean_squared_error(y_val, val_preds, squared=False)\n",
    "#         scores.append(score)\n",
    "\n",
    "#     overall_oof_score = mean_squared_error(train[TARGET], oof_preds, squared=False)\n",
    "    \n",
    "#     return overall_oof_score\n",
    "\n",
    "# N_TRIALS = 50\n",
    "# study = optuna.create_study(direction='minimize')\n",
    "\n",
    "# print(f\"--- Starting Optuna Optimization for {N_TRIALS} trials ---\")\n",
    "# study.optimize(objective, n_trials=N_TRIALS, show_progress_bar=True)\n",
    "\n",
    "# print(\"\\n\" + \"=\"*50)\n",
    "# print(\"OPTUNA OPTIMIZATION COMPLETED\")\n",
    "# print(\"=\"*50)\n",
    "\n",
    "# print(f\"Number of finished trials: {len(study.trials)}\")\n",
    "# print(\"Best trial:\")\n",
    "# best_trial = study.best_trial\n",
    "\n",
    "# print(f\"  Value (OOF RMSE): {best_trial.value:.5f}\")\n",
    "# print(\"  Params: \")\n",
    "# for key, value in best_trial.params.items():\n",
    "#     print(f\"    {key}: {value}\")\n",
    "\n",
    "# print(\"\\n--- Top 5 Best Trials (based on OOF RMSE) ---\")\n",
    "# trials_df = study.trials_dataframe().sort_values(by='value', ascending=True)\n",
    "\n",
    "# for i in range(min(5, len(trials_df))):\n",
    "#     res = trials_df.iloc[i]\n",
    "#     print(f\"\\nRank {i+1}:\")\n",
    "#     print(f\"  OOF RMSE: {res['value']:.5f}\")\n",
    "#     params_dict = res.filter(regex='^params_').to_dict()\n",
    "#     params_dict = {k.replace('params_', ''): v for k, v in params_dict.items()}\n",
    "#     print(f\"  Params: {params_dict}\")\n",
    "\n",
    "# best_params_from_study = study.best_params\n",
    "# print(\"\\n--- Best Parameters Found ---\")\n",
    "# print(best_params_from_study)"
   ]
  },
  {
   "cell_type": "markdown",
   "id": "31342e2f",
   "metadata": {
    "papermill": {
     "duration": 0.005365,
     "end_time": "2025-10-08T00:38:05.676906",
     "exception": false,
     "start_time": "2025-10-08T00:38:05.671541",
     "status": "completed"
    },
    "tags": []
   },
   "source": [
    "# 5. Conclusion \n",
    "\n",
    "Let's recap our journey of improving the model's performance. We saw a clear, step-by-step improvement in our CV score:\n",
    "\n",
    "* **Baseline Score:** `0.05606`\n",
    "* **After Feature Engineering:** `0.05597`\n",
    "* **After Parameter Tuning:** `???` *(Run the Optuna cell to get the final score!)*\n",
    "\n",
    "This demonstrates the tangible benefits of a systematic approach that combines thoughtful feature engineering with precise parameter tuning.\n",
    "\n",
    "### The Importance of CV-LB Correlation\n",
    "In this competition, there appears to be a good **CV-LB (Cross-Validation to Leaderboard) correlation**. This means that improvements to our local, reliable CV score are likely to translate into better scores on the public leaderboard. More importantly, this relationship is often even stronger for the final private leaderboard, which uses a much larger portion of the test data. This reinforces the core Kaggle philosophy: **Trust Your CV**."
   ]
  },
  {
   "cell_type": "code",
   "execution_count": null,
   "id": "76d5e0cd",
   "metadata": {
    "papermill": {
     "duration": 0.005507,
     "end_time": "2025-10-08T00:38:05.687800",
     "exception": false,
     "start_time": "2025-10-08T00:38:05.682293",
     "status": "completed"
    },
    "tags": []
   },
   "outputs": [],
   "source": []
  }
 ],
 "metadata": {
  "kaggle": {
   "accelerator": "gpu",
   "dataSources": [
    {
     "databundleVersionId": 13760552,
     "sourceId": 91721,
     "sourceType": "competition"
    },
    {
     "datasetId": 7797612,
     "sourceId": 12367739,
     "sourceType": "datasetVersion"
    }
   ],
   "dockerImageVersionId": 31089,
   "isGpuEnabled": true,
   "isInternetEnabled": true,
   "language": "python",
   "sourceType": "notebook"
  },
  "kernelspec": {
   "display_name": "Python 3",
   "language": "python",
   "name": "python3"
  },
  "language_info": {
   "codemirror_mode": {
    "name": "ipython",
    "version": 3
   },
   "file_extension": ".py",
   "mimetype": "text/x-python",
   "name": "python",
   "nbconvert_exporter": "python",
   "pygments_lexer": "ipython3",
   "version": "3.11.13"
  },
  "papermill": {
   "default_parameters": {},
   "duration": 179.468205,
   "end_time": "2025-10-08T00:38:06.211194",
   "environment_variables": {},
   "exception": null,
   "input_path": "__notebook__.ipynb",
   "output_path": "__notebook__.ipynb",
   "parameters": {},
   "start_time": "2025-10-08T00:35:06.742989",
   "version": "2.6.0"
  }
 },
 "nbformat": 4,
 "nbformat_minor": 5
}
